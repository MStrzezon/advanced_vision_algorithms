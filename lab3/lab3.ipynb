{
 "cells": [
  {
   "attachments": {},
   "cell_type": "markdown",
   "metadata": {},
   "source": [
    "# Segmentacja obiektów pierwszoplanowych\n",
    "## Metody oparte o bufor próbek"
   ]
  },
  {
   "cell_type": "code",
   "execution_count": 1,
   "metadata": {},
   "outputs": [],
   "source": [
    "import numpy as np\n",
    "import cv2"
   ]
  },
  {
   "attachments": {},
   "cell_type": "markdown",
   "metadata": {},
   "source": [
    "### Metody pomocnicze"
   ]
  },
  {
   "cell_type": "code",
   "execution_count": 2,
   "metadata": {},
   "outputs": [],
   "source": [
    "def I_gray(filename):\n",
    "    I = cv2.imread(filename)\n",
    "    I = cv2.cvtColor(I, cv2.COLOR_BGR2GRAY)\n",
    "    return I"
   ]
  },
  {
   "cell_type": "code",
   "execution_count": 3,
   "metadata": {},
   "outputs": [],
   "source": [
    "def I_original(filename):\n",
    "    I = cv2.imread(filename)\n",
    "    return I"
   ]
  },
  {
   "cell_type": "code",
   "execution_count": 4,
   "metadata": {},
   "outputs": [],
   "source": [
    "def I_diff_and_thresh(I_prev, I, thresh):\n",
    "    I_abs_diff = cv2.absdiff(I_prev, I)\n",
    "    (T, I_thresh) = cv2.threshold(I_abs_diff, thresh,255,cv2.THRESH_BINARY)\n",
    "    return I_thresh"
   ]
  },
  {
   "cell_type": "code",
   "execution_count": 5,
   "metadata": {},
   "outputs": [],
   "source": [
    "def I_indexation(I_input, I):\n",
    "    retval, labels, stats, centroids = cv2.connectedComponentsWithStats(I)\n",
    "\n",
    "    I_VIS = I_input # copy of the input image\n",
    "    if (stats.shape[0] > 1): # are there any objects\n",
    "        tab = stats[1:,4] # 4 columns without first element\n",
    "        pi = np.argmax( tab )# finding the index of the largest item\n",
    "        pi = pi + 1 # increment because we want the index in stats, not in tab\n",
    "        # drawing a bbox\n",
    "        cv2.rectangle(I_VIS,(stats[pi,0],stats[pi,1]),(stats[pi,0]+stats[pi,2],\n",
    "        stats[pi,1]+stats[pi,3]),(255,0,0),2)\n",
    "        cv2.putText(I_VIS,\"%f\" % stats[pi,4],(stats[pi,0],stats[pi,1]),cv2.FONT_HERSHEY_SIMPLEX,0.5,(255,0,0))\n",
    "        cv2.putText(I_VIS,\"%d\" %pi,(int(centroids[pi,0]),int(centroids[pi,1])),cv2.FONT_HERSHEY_SIMPLEX,1,(255,0,0))\n",
    "    return I_VIS, np.uint8(labels / retval * 255)"
   ]
  },
  {
   "cell_type": "code",
   "execution_count": 6,
   "metadata": {},
   "outputs": [],
   "source": [
    "def I__median_and_morfology(I):\n",
    "    I_median = cv2.medianBlur(I, 3)\n",
    "\n",
    "    kernel = np.ones((3,3),np.uint8)\n",
    "    I_result = cv2.erode(I_median,kernel)\n",
    "    I_result = cv2.dilate(I_median,kernel)\n",
    "\n",
    "    return I_result"
   ]
  },
  {
   "attachments": {},
   "cell_type": "markdown",
   "metadata": {},
   "source": [
    "### Implementacja"
   ]
  },
  {
   "cell_type": "code",
   "execution_count": 8,
   "metadata": {},
   "outputs": [],
   "source": [
    "TP, TN, FP, FN = 0, 0, 0, 0"
   ]
  },
  {
   "cell_type": "code",
   "execution_count": 9,
   "metadata": {},
   "outputs": [],
   "source": [
    "N = 60\n",
    "I = I_gray('../common/pedestrian/input/in%06d.jpg' % 1)\n",
    "\n",
    "YY, XX = I.shape\n",
    "BUF = np.zeros((YY,XX,N),np.uint8)\n",
    "iN = 0"
   ]
  },
  {
   "attachments": {},
   "cell_type": "markdown",
   "metadata": {},
   "source": [
    "### Średnia"
   ]
  },
  {
   "cell_type": "code",
   "execution_count": 10,
   "metadata": {},
   "outputs": [],
   "source": [
    "def process_video(folder, start_frame, end_frame):\n",
    "    iN = 0\n",
    "    TP, TN, FP, FN = 0, 0, 0, 0\n",
    "\n",
    "    I = I_gray(folder + '/input/in%06d.jpg' % 1)\n",
    "    YY, XX = I.shape\n",
    "    BUF = np.zeros((YY,XX,N),np.uint8)\n",
    "    for i in range(start_frame, end_frame, 2):\n",
    "        IG = I_gray(folder + '/input/in%06d.jpg' % i)\n",
    "        BUF[:,:,iN] = IG\n",
    "        iN = (iN + 1) % 60\n",
    "        mean = (np.mean(BUF, axis=2)).astype(np.uint8)\n",
    "        I_ref = I_gray(folder + '/groundtruth/gt%06d.png' % i)\n",
    "        I_color = I_original(folder + '/input/in%06d.jpg' % i)\n",
    "        I_result = I_diff_and_thresh(mean, IG, 20)\n",
    "        cv2.imshow(\"I_result\", I_result)\n",
    "\n",
    "        I_result_gray = I__median_and_morfology(I_result)\n",
    "\n",
    "        I_result, tmp = I_indexation(I_color, I_result_gray)\n",
    "        cv2.imshow(\"I_result_gray\", I_result_gray)\n",
    "        cv2.waitKey(10)\n",
    "        f = open(folder + '/temporalROI.txt','r') # open file\n",
    "        line = f.readline() # read line\n",
    "        roi_start, roi_end = line.split() # split line\n",
    "        roi_start = int(roi_start) # conversion to int\n",
    "        roi_end = int(roi_end) # conversion to int\n",
    "\n",
    "        if (i >= roi_start and i <= roi_end):\n",
    "            TP_M = np.logical_and((I_result_gray == 255),(I_ref == 255)) # logical product of the matrix elements\n",
    "            TP_S = np.sum(TP_M) # sum of the elements in the matrix\n",
    "            TP = TP + TP_S # update of the global indicator\n",
    "\n",
    "            TN_M = np.logical_and((I_result_gray == 0),(I_ref == 0)) # logical product of the matrix elements\n",
    "            TN_S = np.sum(TN_M) # sum of the elements in the matrix\n",
    "            TN = TN + TN_S # update of the global indicator\n",
    "\n",
    "            FP_M = np.logical_and((I_result_gray == 255),(I_ref == 0)) # logical product of the matrix elements\n",
    "            FP_S = np.sum(FP_M) # sum of the elements in the matrix\n",
    "            FP = FP + FP_S # update of the global indicator\n",
    "\n",
    "            FN_M = np.logical_and((I_result_gray == 0),(I_ref == 255)) # logical product of the matrix elements\n",
    "            FN_S = np.sum(FN_M) # sum of the elements in the matrix\n",
    "            FN = FN + FN_S # update of the global indicator\n",
    "    cv2.destroyAllWindows()\n",
    "\n",
    "    P = TP / (TP + FP)\n",
    "    R = TP / (TP + FN)\n",
    "    F1 = 2 * P * R / (P + R)\n",
    "    print(F1)"
   ]
  },
  {
   "attachments": {},
   "cell_type": "markdown",
   "metadata": {},
   "source": [
    "Pedestrian"
   ]
  },
  {
   "cell_type": "code",
   "execution_count": 27,
   "metadata": {},
   "outputs": [
    {
     "name": "stdout",
     "output_type": "stream",
     "text": [
      "0.12179949155069279\n"
     ]
    }
   ],
   "source": [
    "folder = '../common/pedestrian'\n",
    "process_video(folder, 300, 1100)"
   ]
  },
  {
   "attachments": {},
   "cell_type": "markdown",
   "metadata": {},
   "source": [
    "Highway"
   ]
  },
  {
   "cell_type": "code",
   "execution_count": 28,
   "metadata": {},
   "outputs": [
    {
     "name": "stdout",
     "output_type": "stream",
     "text": [
      "0.43589317338095923\n"
     ]
    }
   ],
   "source": [
    "folder = '../common/highway'\n",
    "process_video(folder, 470, 1701)"
   ]
  },
  {
   "cell_type": "code",
   "execution_count": 29,
   "metadata": {},
   "outputs": [
    {
     "ename": "KeyboardInterrupt",
     "evalue": "",
     "output_type": "error",
     "traceback": [
      "\u001B[1;31m---------------------------------------------------------------------------\u001B[0m",
      "\u001B[1;31mKeyboardInterrupt\u001B[0m                         Traceback (most recent call last)",
      "Cell \u001B[1;32mIn[29], line 2\u001B[0m\n\u001B[0;32m      1\u001B[0m folder \u001B[39m=\u001B[39m \u001B[39m'\u001B[39m\u001B[39m../common/office\u001B[39m\u001B[39m'\u001B[39m\n\u001B[1;32m----> 2\u001B[0m process_video(folder, \u001B[39m570\u001B[39;49m, \u001B[39m2050\u001B[39;49m)\n",
      "Cell \u001B[1;32mIn[26], line 22\u001B[0m, in \u001B[0;36mprocess_video\u001B[1;34m(folder, start_frame, end_frame)\u001B[0m\n\u001B[0;32m     20\u001B[0m I_result, tmp \u001B[39m=\u001B[39m I_indexation(I_color, I_result_gray)\n\u001B[0;32m     21\u001B[0m cv2\u001B[39m.\u001B[39mimshow(\u001B[39m\"\u001B[39m\u001B[39mI_result_gray\u001B[39m\u001B[39m\"\u001B[39m, I_result_gray)\n\u001B[1;32m---> 22\u001B[0m cv2\u001B[39m.\u001B[39;49mwaitKey(\u001B[39m10\u001B[39;49m)\n\u001B[0;32m     23\u001B[0m f \u001B[39m=\u001B[39m \u001B[39mopen\u001B[39m(folder \u001B[39m+\u001B[39m \u001B[39m'\u001B[39m\u001B[39m/temporalROI.txt\u001B[39m\u001B[39m'\u001B[39m,\u001B[39m'\u001B[39m\u001B[39mr\u001B[39m\u001B[39m'\u001B[39m) \u001B[39m# open file\u001B[39;00m\n\u001B[0;32m     24\u001B[0m line \u001B[39m=\u001B[39m f\u001B[39m.\u001B[39mreadline() \u001B[39m# read line\u001B[39;00m\n",
      "\u001B[1;31mKeyboardInterrupt\u001B[0m: "
     ]
    }
   ],
   "source": [
    "folder = '../common/office'\n",
    "process_video(folder, 570, 2050)"
   ]
  },
  {
   "attachments": {},
   "cell_type": "markdown",
   "metadata": {},
   "source": [
    "### Mediana"
   ]
  },
  {
   "cell_type": "code",
   "execution_count": 30,
   "metadata": {},
   "outputs": [
    {
     "data": {
      "text/plain": [
       "0.20054060005675836"
      ]
     },
     "execution_count": 30,
     "metadata": {},
     "output_type": "execute_result"
    }
   ],
   "source": [
    "I = I_gray('../common/pedestrian/input/in%06d.jpg' % 299)\n",
    "\n",
    "YY, XX = I.shape\n",
    "BUF = np.zeros((YY,XX,N),np.uint8)\n",
    "iN = 0\n",
    "\n",
    "for i in range(300,1100, 2):\n",
    "    IG = I_gray('../common/pedestrian/input/in%06d.jpg' % i)\n",
    "    BUF[:,:,iN] = IG\n",
    "    iN = (iN + 1) % 60\n",
    "    median = (np.median(BUF, axis=2)).astype(np.uint8)\n",
    "    I_ref = I_gray('../common/pedestrian/groundtruth/gt%06d.png' % i)\n",
    "    I_color = I_original('../common/pedestrian/input/in%06d.jpg' % i)\n",
    "    I_result = I_diff_and_thresh(median, IG, 35)\n",
    "    cv2.imshow(\"I_result\", I_result)\n",
    "\n",
    "    I_result_gray = I__median_and_morfology(I_result)\n",
    "    cv2.imshow(\"I_result\", I_result_gray)\n",
    "\n",
    "    I_result, tmp = I_indexation(I_color, I_result_gray)\n",
    "    cv2.waitKey(10)\n",
    "    f = open('../common/pedestrian/temporalROI.txt','r') # open file\n",
    "    line = f.readline() # read line\n",
    "    roi_start, roi_end = line.split() # split line\n",
    "    roi_start = int(roi_start) # conversion to int\n",
    "    roi_end = int(roi_end) # conversion to int\n",
    "\n",
    "    if (i >= roi_start and i <= roi_end):\n",
    "        TP_M = np.logical_and((I_result_gray == 255),(I_ref == 255)) # logical product of the matrix elements\n",
    "        TP_S = np.sum(TP_M) # sum of the elements in the matrix\n",
    "        TP = TP + TP_S # update of the global indicator\n",
    "\n",
    "        TN_M = np.logical_and((I_result_gray == 0),(I_ref == 0)) # logical product of the matrix elements\n",
    "        TN_S = np.sum(TN_M) # sum of the elements in the matrix\n",
    "        TN = TN + TN_S # update of the global indicator\n",
    "\n",
    "        FP_M = np.logical_and((I_result_gray == 255),(I_ref == 0)) # logical product of the matrix elements\n",
    "        FP_S = np.sum(FP_M) # sum of the elements in the matrix\n",
    "        FP = FP + FP_S # update of the global indicator\n",
    "\n",
    "        FN_M = np.logical_and((I_result_gray == 0),(I_ref == 255)) # logical product of the matrix elements\n",
    "        FN_S = np.sum(FN_M) # sum of the elements in the matrix\n",
    "        FN = FN + FN_S # update of the global indicator\n",
    "cv2.destroyAllWindows()\n",
    "\n",
    "P = TP / (TP + FP)\n",
    "R = TP / (TP + FN)\n",
    "F1 = 2 * P * R / (P + R)\n",
    "F1"
   ]
  },
  {
   "cell_type": "code",
   "execution_count": 31,
   "metadata": {},
   "outputs": [
    {
     "data": {
      "text/plain": [
       "0.5306818799097345"
      ]
     },
     "execution_count": 31,
     "metadata": {},
     "output_type": "execute_result"
    }
   ],
   "source": [
    "I = I_gray('../common/highway/input/in%06d.jpg' % 469)\n",
    "\n",
    "YY, XX = I.shape\n",
    "BUF = np.zeros((YY,XX,N),np.uint8)\n",
    "iN = 0\n",
    "\n",
    "for i in range(470,1701, 2):\n",
    "    IG = I_gray('../common/highway/input/in%06d.jpg' % i)\n",
    "    BUF[:,:,iN] = IG\n",
    "    iN = (iN + 1) % 60\n",
    "    median = (np.median(BUF, axis=2)).astype(np.uint8)\n",
    "    I_ref = I_gray('../common/highway/groundtruth/gt%06d.png' % i)\n",
    "    I_color = I_original('../common/highway/input/in%06d.jpg' % i)\n",
    "    I_result = I_diff_and_thresh(median, IG, 35)\n",
    "    cv2.imshow(\"I_result\", I_result)\n",
    "\n",
    "    I_result_gray = I__median_and_morfology(I_result)\n",
    "    cv2.imshow(\"I_result_gray\", I_result_gray)\n",
    "\n",
    "    I_result, tmp = I_indexation(I_color, I_result_gray)\n",
    "    cv2.waitKey(10)\n",
    "    f = open('../common/highway/temporalROI.txt','r') # open file\n",
    "    line = f.readline() # read line\n",
    "    roi_start, roi_end = line.split() # split line\n",
    "    roi_start = int(roi_start) # conversion to int\n",
    "    roi_end = int(roi_end) # conversion to int\n",
    "\n",
    "    if (i >= roi_start and i <= roi_end):\n",
    "        TP_M = np.logical_and((I_result_gray == 255),(I_ref == 255)) # logical product of the matrix elements\n",
    "        TP_S = np.sum(TP_M) # sum of the elements in the matrix\n",
    "        TP = TP + TP_S # update of the global indicator\n",
    "\n",
    "        TN_M = np.logical_and((I_result_gray == 0),(I_ref == 0)) # logical product of the matrix elements\n",
    "        TN_S = np.sum(TN_M) # sum of the elements in the matrix\n",
    "        TN = TN + TN_S # update of the global indicator\n",
    "\n",
    "        FP_M = np.logical_and((I_result_gray == 255),(I_ref == 0)) # logical product of the matrix elements\n",
    "        FP_S = np.sum(FP_M) # sum of the elements in the matrix\n",
    "        FP = FP + FP_S # update of the global indicator\n",
    "\n",
    "        FN_M = np.logical_and((I_result_gray == 0),(I_ref == 255)) # logical product of the matrix elements\n",
    "        FN_S = np.sum(FN_M) # sum of the elements in the matrix\n",
    "        FN = FN + FN_S # update of the global indicator\n",
    "cv2.destroyAllWindows()\n",
    "\n",
    "P = TP / (TP + FP)\n",
    "R = TP / (TP + FN)\n",
    "F1 = 2 * P * R / (P + R)\n",
    "F1"
   ]
  },
  {
   "cell_type": "code",
   "execution_count": null,
   "metadata": {},
   "outputs": [
    {
     "data": {
      "text/plain": [
       "0.6592022450461996"
      ]
     },
     "execution_count": 34,
     "metadata": {},
     "output_type": "execute_result"
    }
   ],
   "source": [
    "I = I_gray('../common/office/input/in%06d.jpg' % 569)\n",
    "\n",
    "YY, XX = I.shape\n",
    "BUF = np.zeros((YY,XX,N),np.uint8)\n",
    "iN = 0\n",
    "\n",
    "for i in range(570,2050, 3):\n",
    "    IG = I_gray('../common/office/input/in%06d.jpg' % i)\n",
    "    BUF[:,:,iN] = IG\n",
    "    iN = (iN + 1) % 60\n",
    "    median = (np.median(BUF, axis=2)).astype(np.uint8)\n",
    "    I_ref = I_gray('../common/office/groundtruth/gt%06d.png' % i)\n",
    "    I_color = I_original('../common/office/input/in%06d.jpg' % i)\n",
    "    I_result = I_diff_and_thresh(median, IG, 35)\n",
    "    cv2.imshow(\"I_result\", I_result)\n",
    "\n",
    "    I_result_gray = I__median_and_morfology(I_result)\n",
    "    cv2.imshow(\"I_result_gray\", I_result_gray)\n",
    "\n",
    "    I_result, tmp = I_indexation(I_color, I_result_gray)\n",
    "    cv2.waitKey(10)\n",
    "    f = open('../common/office/temporalROI.txt','r') # open file\n",
    "    line = f.readline() # read line\n",
    "    roi_start, roi_end = line.split() # split line\n",
    "    roi_start = int(roi_start) # conversion to int\n",
    "    roi_end = int(roi_end) # conversion to int\n",
    "\n",
    "    if (i >= roi_start and i <= roi_end):\n",
    "        TP_M = np.logical_and((I_result_gray == 255),(I_ref == 255)) # logical product of the matrix elements\n",
    "        TP_S = np.sum(TP_M) # sum of the elements in the matrix\n",
    "        TP = TP + TP_S # update of the global indicator\n",
    "\n",
    "        TN_M = np.logical_and((I_result_gray == 0),(I_ref == 0)) # logical product of the matrix elements\n",
    "        TN_S = np.sum(TN_M) # sum of the elements in the matrix\n",
    "        TN = TN + TN_S # update of the global indicator\n",
    "\n",
    "        FP_M = np.logical_and((I_result_gray == 255),(I_ref == 0)) # logical product of the matrix elements\n",
    "        FP_S = np.sum(FP_M) # sum of the elements in the matrix\n",
    "        FP = FP + FP_S # update of the global indicator\n",
    "\n",
    "        FN_M = np.logical_and((I_result_gray == 0),(I_ref == 255)) # logical product of the matrix elements\n",
    "        FN_S = np.sum(FN_M) # sum of the elements in the matrix\n",
    "        FN = FN + FN_S # update of the global indicator\n",
    "cv2.destroyAllWindows()\n",
    "\n",
    "P = TP / (TP + FP)\n",
    "R = TP / (TP + FN)\n",
    "F1 = 2 * P * R / (P + R)\n",
    "F1"
   ]
  },
  {
   "attachments": {},
   "cell_type": "markdown",
   "metadata": {},
   "source": [
    "## Aproksymacja sredniej i mediany (tzw. sigma-delta)\n",
    "### Średnia\n",
    "Pedestrian"
   ]
  },
  {
   "cell_type": "code",
   "execution_count": 8,
   "metadata": {},
   "outputs": [],
   "source": [
    "alfa = 0.05"
   ]
  },
  {
   "cell_type": "code",
   "execution_count": 41,
   "metadata": {},
   "outputs": [],
   "source": [
    "def I__median_and_morfology(I):\n",
    "    I_median = cv2.medianBlur(I, 3)\n",
    "\n",
    "    kernel = np.ones((3,3),np.uint8)\n",
    "    I_result = cv2.erode(I_median,kernel)\n",
    "    I_result = cv2.dilate(I_result,kernel)\n",
    "\n",
    "    return I_result"
   ]
  },
  {
   "cell_type": "code",
   "execution_count": 42,
   "metadata": {},
   "outputs": [
    {
     "data": {
      "text/plain": [
       "0.5406136887232686"
      ]
     },
     "execution_count": 42,
     "metadata": {},
     "output_type": "execute_result"
    }
   ],
   "source": [
    "BG = I_gray('../common/pedestrian/input/in%06d.jpg' % 299)\n",
    "\n",
    "for i in range(300,1100):\n",
    "    IG = I_gray('../common/pedestrian/input/in%06d.jpg' % i)\n",
    "    I_ref = I_gray('../common/pedestrian/groundtruth/gt%06d.png' % i)\n",
    "    I_color = I_original('../common/pedestrian/input/in%06d.jpg' % i)\n",
    "    BG = alfa * IG + (1 - alfa) * BG\n",
    "    BG = BG.astype(np.uint8)\n",
    "    I_result = I_diff_and_thresh(BG, IG, 35)\n",
    "    cv2.imshow(\"I_result\", I_result)\n",
    "\n",
    "    I_result_gray = I__median_and_morfology(I_result)\n",
    "    cv2.imshow(\"I_result_gray\", I_result_gray)\n",
    "\n",
    "    I_result, tmp = I_indexation(I_color, I_result_gray)\n",
    "    cv2.waitKey(10)\n",
    "    f = open('../common/pedestrian/temporalROI.txt','r') # open file\n",
    "    line = f.readline() # read line\n",
    "    roi_start, roi_end = line.split() # split line\n",
    "    roi_start = int(roi_start) # conversion to int\n",
    "    roi_end = int(roi_end) # conversion to int\n",
    "\n",
    "    if (i >= roi_start and i <= roi_end):\n",
    "        TP_M = np.logical_and((I_result_gray == 255),(I_ref == 255)) # logical product of the matrix elements\n",
    "        TP_S = np.sum(TP_M) # sum of the elements in the matrix\n",
    "        TP = TP + TP_S # update of the global indicator\n",
    "\n",
    "        TN_M = np.logical_and((I_result_gray == 0),(I_ref == 0)) # logical product of the matrix elements\n",
    "        TN_S = np.sum(TN_M) # sum of the elements in the matrix\n",
    "        TN = TN + TN_S # update of the global indicator\n",
    "\n",
    "        FP_M = np.logical_and((I_result_gray == 255),(I_ref == 0)) # logical product of the matrix elements\n",
    "        FP_S = np.sum(FP_M) # sum of the elements in the matrix\n",
    "        FP = FP + FP_S # update of the global indicator\n",
    "\n",
    "        FN_M = np.logical_and((I_result_gray == 0),(I_ref == 255)) # logical product of the matrix elements\n",
    "        FN_S = np.sum(FN_M) # sum of the elements in the matrix\n",
    "        FN = FN + FN_S # update of the global indicator\n",
    "cv2.destroyAllWindows()\n",
    "\n",
    "P = TP / (TP + FP)\n",
    "R = TP / (TP + FN)\n",
    "F1 = 2 * P * R / (P + R)\n",
    "\n",
    "F1"
   ]
  },
  {
   "attachments": {},
   "cell_type": "markdown",
   "metadata": {},
   "source": [
    "Highway"
   ]
  },
  {
   "cell_type": "code",
   "execution_count": 43,
   "metadata": {},
   "outputs": [
    {
     "data": {
      "text/plain": [
       "0.5667646777184131"
      ]
     },
     "execution_count": 43,
     "metadata": {},
     "output_type": "execute_result"
    }
   ],
   "source": [
    "BG = I_gray('../common/highway/input/in%06d.jpg' % 469)\n",
    "\n",
    "for i in range(470,1701, 2):\n",
    "    IG = I_gray('../common/highway/input/in%06d.jpg' % i)\n",
    "    I_ref = I_gray('../common/highway/groundtruth/gt%06d.png' % i)\n",
    "    I_color = I_original('../common/highway/input/in%06d.jpg' % i)\n",
    "    BG = alfa * IG + (1 - alfa) * BG\n",
    "    BG = BG.astype(np.uint8)\n",
    "    I_result = I_diff_and_thresh(BG, IG, 35)\n",
    "    cv2.imshow(\"I_result\", I_result)\n",
    "\n",
    "    I_result_gray = I__median_and_morfology(I_result)\n",
    "    cv2.imshow(\"I_result_gray\", I_result_gray)\n",
    "\n",
    "    I_result, tmp = I_indexation(I_color, I_result_gray)\n",
    "    cv2.waitKey(10)\n",
    "    f = open('../common/highway/temporalROI.txt','r') # open file\n",
    "    line = f.readline() # read line\n",
    "    roi_start, roi_end = line.split() # split line\n",
    "    roi_start = int(roi_start) # conversion to int\n",
    "    roi_end = int(roi_end) # conversion to int\n",
    "\n",
    "    if (i >= roi_start and i <= roi_end):\n",
    "        TP_M = np.logical_and((I_result_gray == 255),(I_ref == 255)) # logical product of the matrix elements\n",
    "        TP_S = np.sum(TP_M) # sum of the elements in the matrix\n",
    "        TP = TP + TP_S # update of the global indicator\n",
    "\n",
    "        TN_M = np.logical_and((I_result_gray == 0),(I_ref == 0)) # logical product of the matrix elements\n",
    "        TN_S = np.sum(TN_M) # sum of the elements in the matrix\n",
    "        TN = TN + TN_S # update of the global indicator\n",
    "\n",
    "        FP_M = np.logical_and((I_result_gray == 255),(I_ref == 0)) # logical product of the matrix elements\n",
    "        FP_S = np.sum(FP_M) # sum of the elements in the matrix\n",
    "        FP = FP + FP_S # update of the global indicator\n",
    "\n",
    "        FN_M = np.logical_and((I_result_gray == 0),(I_ref == 255)) # logical product of the matrix elements\n",
    "        FN_S = np.sum(FN_M) # sum of the elements in the matrix\n",
    "        FN = FN + FN_S # update of the global indicator\n",
    "cv2.destroyAllWindows()\n",
    "\n",
    "P = TP / (TP + FP)\n",
    "R = TP / (TP + FN)\n",
    "F1 = 2 * P * R / (P + R)\n",
    "\n",
    "F1"
   ]
  },
  {
   "attachments": {},
   "cell_type": "markdown",
   "metadata": {},
   "source": [
    "Office"
   ]
  },
  {
   "cell_type": "code",
   "execution_count": null,
   "metadata": {},
   "outputs": [
    {
     "data": {
      "text/plain": [
       "0.7101643562433197"
      ]
     },
     "execution_count": 30,
     "metadata": {},
     "output_type": "execute_result"
    }
   ],
   "source": [
    "BG = I_gray('../common/office/input/in%06d.jpg' % 569)\n",
    "\n",
    "for i in range(570, 2051):\n",
    "    IG = I_gray('../common/office/input/in%06d.jpg' % i)\n",
    "    I_ref = I_gray('../common/office/groundtruth/gt%06d.png' % i)\n",
    "    I_color = I_original('../common/office/input/in%06d.jpg' % i)\n",
    "    BG = alfa * IG + (1 - alfa) * BG\n",
    "    BG = BG.astype(np.uint8)\n",
    "    I_result = I_diff_and_thresh(BG, IG, 35)\n",
    "    cv2.imshow(\"I_result\", I_result)\n",
    "\n",
    "    I_result_gray = I__median_and_morfology(I_result)\n",
    "\n",
    "    I_result, tmp = I_indexation(I_color, I_result_gray)\n",
    "    cv2.waitKey(10)\n",
    "    f = open('../common/office/temporalROI.txt','r') # open file\n",
    "    line = f.readline() # read line\n",
    "    roi_start, roi_end = line.split() # split line\n",
    "    roi_start = int(roi_start) # conversion to int\n",
    "    roi_end = int(roi_end) # conversion to int\n",
    "\n",
    "    if (i >= roi_start and i <= roi_end):\n",
    "        TP_M = np.logical_and((I_result_gray == 255),(I_ref == 255)) # logical product of the matrix elements\n",
    "        TP_S = np.sum(TP_M) # sum of the elements in the matrix\n",
    "        TP = TP + TP_S # update of the global indicator\n",
    "\n",
    "        TN_M = np.logical_and((I_result_gray == 0),(I_ref == 0)) # logical product of the matrix elements\n",
    "        TN_S = np.sum(TN_M) # sum of the elements in the matrix\n",
    "        TN = TN + TN_S # update of the global indicator\n",
    "\n",
    "        FP_M = np.logical_and((I_result_gray == 255),(I_ref == 0)) # logical product of the matrix elements\n",
    "        FP_S = np.sum(FP_M) # sum of the elements in the matrix\n",
    "        FP = FP + FP_S # update of the global indicator\n",
    "\n",
    "        FN_M = np.logical_and((I_result_gray == 0),(I_ref == 255)) # logical product of the matrix elements\n",
    "        FN_S = np.sum(FN_M) # sum of the elements in the matrix\n",
    "        FN = FN + FN_S # update of the global indicator\n",
    "cv2.destroyAllWindows()\n",
    "\n",
    "P = TP / (TP + FP)\n",
    "R = TP / (TP + FN)\n",
    "F1 = 2 * P * R / (P + R)\n",
    "\n",
    "F1"
   ]
  },
  {
   "attachments": {},
   "cell_type": "markdown",
   "metadata": {},
   "source": [
    "### Mediana\n",
    "Pedestrian"
   ]
  },
  {
   "cell_type": "code",
   "execution_count": 13,
   "metadata": {},
   "outputs": [],
   "source": [
    "def median(BG, I):\n",
    "    if ((BG < I).sum() == 0):\n",
    "        return BG + 1\n",
    "    elif ((BG > I).sum() == 0):\n",
    "        return BG - 1\n",
    "    else:\n",
    "        return BG"
   ]
  },
  {
   "cell_type": "code",
   "execution_count": 49,
   "metadata": {},
   "outputs": [],
   "source": [
    "def I__median_and_morfology(I):\n",
    "    I_median = cv2.medianBlur(I, 3)\n",
    "\n",
    "    kernel = np.ones((3,3),np.uint8)\n",
    "    # I_result = cv2.erode(I_median,kernel)\n",
    "    I_result = cv2.dilate(I_median,kernel)\n",
    "\n",
    "    return I_result"
   ]
  },
  {
   "cell_type": "code",
   "execution_count": 47,
   "metadata": {},
   "outputs": [
    {
     "data": {
      "text/plain": [
       "0.5762357607833148"
      ]
     },
     "execution_count": 47,
     "metadata": {},
     "output_type": "execute_result"
    }
   ],
   "source": [
    "BG = I_gray('../common/pedestrian/input/in%06d.jpg' % 299)\n",
    "\n",
    "for i in range(300,1100, 3):\n",
    "    IG = I_gray('../common/pedestrian/input/in%06d.jpg' % i)\n",
    "    I_ref = I_gray('../common/pedestrian/groundtruth/gt%06d.png' % i)\n",
    "    I_color = I_original('../common/pedestrian/input/in%06d.jpg' % i)\n",
    "    BG = median(BG, IG)\n",
    "    I_result = I_diff_and_thresh(BG, IG, 35)\n",
    "    cv2.imshow(\"I_result\", I_result)\n",
    "\n",
    "    I_result_gray = I__median_and_morfology(I_result)\n",
    "    cv2.imshow(\"I_result_gray\", I_result_gray)\n",
    "\n",
    "    I_result, tmp = I_indexation(I_color, I_result_gray)\n",
    "    cv2.waitKey(10)\n",
    "    f = open('../common/pedestrian/temporalROI.txt','r') # open file\n",
    "    line = f.readline() # read line\n",
    "    roi_start, roi_end = line.split() # split line\n",
    "    roi_start = int(roi_start) # conversion to int\n",
    "    roi_end = int(roi_end) # conversion to int\n",
    "\n",
    "    if (i >= roi_start and i <= roi_end):\n",
    "        TP_M = np.logical_and((I_result_gray == 255),(I_ref == 255)) # logical product of the matrix elements\n",
    "        TP_S = np.sum(TP_M) # sum of the elements in the matrix\n",
    "        TP = TP + TP_S # update of the global indicator\n",
    "\n",
    "        TN_M = np.logical_and((I_result_gray == 0),(I_ref == 0)) # logical product of the matrix elements\n",
    "        TN_S = np.sum(TN_M) # sum of the elements in the matrix\n",
    "        TN = TN + TN_S # update of the global indicator\n",
    "\n",
    "        FP_M = np.logical_and((I_result_gray == 255),(I_ref == 0)) # logical product of the matrix elements\n",
    "        FP_S = np.sum(FP_M) # sum of the elements in the matrix\n",
    "        FP = FP + FP_S # update of the global indicator\n",
    "\n",
    "        FN_M = np.logical_and((I_result_gray == 0),(I_ref == 255)) # logical product of the matrix elements\n",
    "        FN_S = np.sum(FN_M) # sum of the elements in the matrix\n",
    "        FN = FN + FN_S # update of the global indicator\n",
    "cv2.destroyAllWindows()\n",
    "\n",
    "P = TP / (TP + FP)\n",
    "R = TP / (TP + FN)\n",
    "F1 = 2 * P * R / (P + R)\n",
    "\n",
    "F1"
   ]
  },
  {
   "attachments": {},
   "cell_type": "markdown",
   "metadata": {},
   "source": [
    "Highway"
   ]
  },
  {
   "cell_type": "code",
   "execution_count": null,
   "metadata": {},
   "outputs": [
    {
     "data": {
      "text/plain": [
       "0.7853635214080669"
      ]
     },
     "execution_count": 28,
     "metadata": {},
     "output_type": "execute_result"
    }
   ],
   "source": [
    "BG = I_gray('../common/highway/input/in%06d.jpg' % 469)\n",
    "\n",
    "for i in range(470,1701):\n",
    "    IG = I_gray('../common/highway/input/in%06d.jpg' % i)\n",
    "    I_ref = I_gray('../common/highway/groundtruth/gt%06d.png' % i)\n",
    "    I_color = I_original('../common/highway/input/in%06d.jpg' % i)\n",
    "    BG = median(BG, IG)\n",
    "    I_result = I_diff_and_thresh(BG, IG, 35)\n",
    "\n",
    "    I_result_gray = I__median_and_morfology(I_result)\n",
    "    cv2.imshow(\"I_result\", I_result_gray)\n",
    "\n",
    "    I_result, tmp = I_indexation(I_color, I_result_gray)\n",
    "    cv2.waitKey(10)\n",
    "    f = open('../common/highway/temporalROI.txt','r') # open file\n",
    "    line = f.readline() # read line\n",
    "    roi_start, roi_end = line.split() # split line\n",
    "    roi_start = int(roi_start) # conversion to int\n",
    "    roi_end = int(roi_end) # conversion to int\n",
    "\n",
    "    if (i >= roi_start and i <= roi_end):\n",
    "        TP_M = np.logical_and((I_result_gray == 255),(I_ref == 255)) # logical product of the matrix elements\n",
    "        TP_S = np.sum(TP_M) # sum of the elements in the matrix\n",
    "        TP = TP + TP_S # update of the global indicator\n",
    "\n",
    "        TN_M = np.logical_and((I_result_gray == 0),(I_ref == 0)) # logical product of the matrix elements\n",
    "        TN_S = np.sum(TN_M) # sum of the elements in the matrix\n",
    "        TN = TN + TN_S # update of the global indicator\n",
    "\n",
    "        FP_M = np.logical_and((I_result_gray == 255),(I_ref == 0)) # logical product of the matrix elements\n",
    "        FP_S = np.sum(FP_M) # sum of the elements in the matrix\n",
    "        FP = FP + FP_S # update of the global indicator\n",
    "\n",
    "        FN_M = np.logical_and((I_result_gray == 0),(I_ref == 255)) # logical product of the matrix elements\n",
    "        FN_S = np.sum(FN_M) # sum of the elements in the matrix\n",
    "        FN = FN + FN_S # update of the global indicator\n",
    "cv2.destroyAllWindows()\n",
    "\n",
    "P = TP / (TP + FP)\n",
    "R = TP / (TP + FN)\n",
    "F1 = 2 * P * R / (P + R)\n",
    "\n",
    "F1"
   ]
  },
  {
   "attachments": {},
   "cell_type": "markdown",
   "metadata": {},
   "source": [
    "Office"
   ]
  },
  {
   "cell_type": "code",
   "execution_count": null,
   "metadata": {},
   "outputs": [
    {
     "data": {
      "text/plain": [
       "0.7693424302886936"
      ]
     },
     "execution_count": 26,
     "metadata": {},
     "output_type": "execute_result"
    }
   ],
   "source": [
    "BG = I_gray('../common/office/input/in%06d.jpg' % 569)\n",
    "\n",
    "for i in range(570,2051, 2):\n",
    "    IG = I_gray('../common/office/input/in%06d.jpg' % i)\n",
    "    I_ref = I_gray('../common/office/groundtruth/gt%06d.png' % i)\n",
    "    I_color = I_original('../common/office/input/in%06d.jpg' % i)\n",
    "    BG = median(BG, IG)\n",
    "    I_result = I_diff_and_thresh(BG, IG, 35)\n",
    "    cv2.imshow(\"I_result\", I_result)\n",
    "\n",
    "    I_result_gray = I__median_and_morfology(I_result)\n",
    "\n",
    "    I_result, tmp = I_indexation(I_color, I_result_gray)\n",
    "    cv2.waitKey(10)\n",
    "    f = open('../common/office/temporalROI.txt','r') # open file\n",
    "    line = f.readline() # read line\n",
    "    roi_start, roi_end = line.split() # split line\n",
    "    roi_start = int(roi_start) # conversion to int\n",
    "    roi_end = int(roi_end) # conversion to int\n",
    "\n",
    "    if (i >= roi_start and i <= roi_end):\n",
    "        TP_M = np.logical_and((I_result_gray == 255),(I_ref == 255)) # logical product of the matrix elements\n",
    "        TP_S = np.sum(TP_M) # sum of the elements in the matrix\n",
    "        TP = TP + TP_S # update of the global indicator\n",
    "\n",
    "        TN_M = np.logical_and((I_result_gray == 0),(I_ref == 0)) # logical product of the matrix elements\n",
    "        TN_S = np.sum(TN_M) # sum of the elements in the matrix\n",
    "        TN = TN + TN_S # update of the global indicator\n",
    "\n",
    "        FP_M = np.logical_and((I_result_gray == 255),(I_ref == 0)) # logical product of the matrix elements\n",
    "        FP_S = np.sum(FP_M) # sum of the elements in the matrix\n",
    "        FP = FP + FP_S # update of the global indicator\n",
    "\n",
    "        FN_M = np.logical_and((I_result_gray == 0),(I_ref == 255)) # logical product of the matrix elements\n",
    "        FN_S = np.sum(FN_M) # sum of the elements in the matrix\n",
    "        FN = FN + FN_S # update of the global indicator\n",
    "cv2.destroyAllWindows()\n",
    "\n",
    "P = TP / (TP + FP)\n",
    "R = TP / (TP + FN)\n",
    "F1 = 2 * P * R / (P + R)\n",
    "\n",
    "F1"
   ]
  },
  {
   "attachments": {},
   "cell_type": "markdown",
   "metadata": {},
   "source": [
    "## Podejście konserwatywne"
   ]
  },
  {
   "attachments": {},
   "cell_type": "markdown",
   "metadata": {},
   "source": [
    "### Średnia\n",
    "Pedestrian"
   ]
  },
  {
   "cell_type": "code",
   "execution_count": 11,
   "metadata": {},
   "outputs": [
    {
     "data": {
      "text/plain": [
       "0.6386226072597242"
      ]
     },
     "execution_count": 11,
     "metadata": {},
     "output_type": "execute_result"
    }
   ],
   "source": [
    "BG = I_gray('../common/pedestrian/input/in%06d.jpg' % 299)\n",
    "TP, TN, FP, FN = 0, 0, 0, 0\n",
    "\n",
    "for i in range(300,1100, 2):\n",
    "    IG = I_gray('../common/pedestrian/input/in%06d.jpg' % i)\n",
    "    I_ref = I_gray('../common/pedestrian/groundtruth/gt%06d.png' % i)\n",
    "    I_color = I_original('../common/pedestrian/input/in%06d.jpg' % i)\n",
    "    if (i == 300):\n",
    "        BG = alfa * IG + (1 - alfa) * BG\n",
    "    else:\n",
    "        mask = np.logical_and(I_result_gray, IG)\n",
    "        BG[mask] = alfa * IG[mask] + (1 - alfa) * BG[mask]\n",
    "    BG = BG.astype(np.uint8)\n",
    "    I_result = I_diff_and_thresh(BG, IG, 35)\n",
    "    cv2.imshow(\"I_diff\", I_result)\n",
    "\n",
    "    I_result_gray = I__median_and_morfology(I_result)\n",
    "    cv2.imshow(\"I_result\", I_result_gray)\n",
    "\n",
    "    I_result, tmp = I_indexation(I_color, I_result_gray)\n",
    "    if (i == 600):\n",
    "        cv2.waitKey(0)\n",
    "    cv2.waitKey(10)\n",
    "    f = open('../common/pedestrian/temporalROI.txt','r') # open file\n",
    "    line = f.readline() # read line\n",
    "    roi_start, roi_end = line.split() # split line\n",
    "    roi_start = int(roi_start) # conversion to int\n",
    "    roi_end = int(roi_end) # conversion to int\n",
    "\n",
    "    if (i >= roi_start and i <= roi_end):\n",
    "        TP_M = np.logical_and((I_result_gray == 255),(I_ref == 255)) # logical product of the matrix elements\n",
    "        TP_S = np.sum(TP_M) # sum of the elements in the matrix\n",
    "        TP = TP + TP_S # update of the global indicator\n",
    "\n",
    "        TN_M = np.logical_and((I_result_gray == 0),(I_ref == 0)) # logical product of the matrix elements\n",
    "        TN_S = np.sum(TN_M) # sum of the elements in the matrix\n",
    "        TN = TN + TN_S # update of the global indicator\n",
    "\n",
    "        FP_M = np.logical_and((I_result_gray == 255),(I_ref == 0)) # logical product of the matrix elements\n",
    "        FP_S = np.sum(FP_M) # sum of the elements in the matrix\n",
    "        FP = FP + FP_S # update of the global indicator\n",
    "\n",
    "        FN_M = np.logical_and((I_result_gray == 0),(I_ref == 255)) # logical product of the matrix elements\n",
    "        FN_S = np.sum(FN_M) # sum of the elements in the matrix\n",
    "        FN = FN + FN_S # update of the global indicator\n",
    "cv2.destroyAllWindows()\n",
    "\n",
    "P = TP / (TP + FP)\n",
    "R = TP / (TP + FN)\n",
    "F1 = 2 * P * R / (P + R)\n",
    "\n",
    "F1"
   ]
  },
  {
   "attachments": {},
   "cell_type": "markdown",
   "metadata": {},
   "source": [
    "Highway"
   ]
  },
  {
   "cell_type": "code",
   "execution_count": null,
   "metadata": {},
   "outputs": [],
   "source": [
    "def I__median_and_morfology(I):\n",
    "    I_median = cv2.medianBlur(I, 5)\n",
    "\n",
    "    kernel = np.ones((3,3),np.uint8)\n",
    "    I_result = cv2.erode(I_median,kernel)\n",
    "    I_result = cv2.dilate(I_result,kernel)\n",
    "\n",
    "    return I_result"
   ]
  },
  {
   "cell_type": "code",
   "execution_count": 55,
   "metadata": {},
   "outputs": [
    {
     "data": {
      "text/plain": [
       "0.6255617179853603"
      ]
     },
     "execution_count": 55,
     "metadata": {},
     "output_type": "execute_result"
    }
   ],
   "source": [
    "BG = I_gray('../common/highway/input/in%06d.jpg' % 469)\n",
    "\n",
    "for i in range(470,1701, 2):\n",
    "    IG = I_gray('../common/highway/input/in%06d.jpg' % i)\n",
    "    I_ref = I_gray('../common/highway/groundtruth/gt%06d.png' % i)\n",
    "    I_color = I_original('../common/highway/input/in%06d.jpg' % i)\n",
    "    if (i == 470):\n",
    "        BG = alfa * IG + (1 - alfa) * BG\n",
    "    else:\n",
    "        mask = np.logical_and(I_result_gray, IG)\n",
    "        BG[mask] = alfa * IG[mask] + (1 - alfa) * BG[mask]\n",
    "    BG = BG.astype(np.uint8)\n",
    "    I_result = I_diff_and_thresh(BG, IG, 55)\n",
    "    cv2.imshow(\"I_diff\", I_result)\n",
    "\n",
    "    I_result_gray = I__median_and_morfology(I_result)\n",
    "    cv2.imshow(\"I_morfology\", I_result_gray)\n",
    "\n",
    "    I_result, tmp = I_indexation(I_color, I_result_gray)\n",
    "    if (i == 1200):\n",
    "        cv2.waitKey(0)\n",
    "    cv2.waitKey(10)\n",
    "    f = open('../common/highway/temporalROI.txt','r') # open file\n",
    "    line = f.readline() # read line\n",
    "    roi_start, roi_end = line.split() # split line\n",
    "    roi_start = int(roi_start) # conversion to int\n",
    "    roi_end = int(roi_end) # conversion to int\n",
    "\n",
    "    if (i >= roi_start and i <= roi_end):\n",
    "        TP_M = np.logical_and((I_result_gray == 255),(I_ref == 255)) # logical product of the matrix elements\n",
    "        TP_S = np.sum(TP_M) # sum of the elements in the matrix\n",
    "        TP = TP + TP_S # update of the global indicator\n",
    "\n",
    "        TN_M = np.logical_and((I_result_gray == 0),(I_ref == 0)) # logical product of the matrix elements\n",
    "        TN_S = np.sum(TN_M) # sum of the elements in the matrix\n",
    "        TN = TN + TN_S # update of the global indicator\n",
    "\n",
    "        FP_M = np.logical_and((I_result_gray == 255),(I_ref == 0)) # logical product of the matrix elements\n",
    "        FP_S = np.sum(FP_M) # sum of the elements in the matrix\n",
    "        FP = FP + FP_S # update of the global indicator\n",
    "\n",
    "        FN_M = np.logical_and((I_result_gray == 0),(I_ref == 255)) # logical product of the matrix elements\n",
    "        FN_S = np.sum(FN_M) # sum of the elements in the matrix\n",
    "        FN = FN + FN_S # update of the global indicator\n",
    "cv2.destroyAllWindows()\n",
    "\n",
    "P = TP / (TP + FP)\n",
    "R = TP / (TP + FN)\n",
    "F1 = 2 * P * R / (P + R)\n",
    "\n",
    "F1"
   ]
  },
  {
   "attachments": {},
   "cell_type": "markdown",
   "metadata": {},
   "source": [
    "Office"
   ]
  },
  {
   "cell_type": "code",
   "execution_count": 56,
   "metadata": {},
   "outputs": [
    {
     "data": {
      "text/plain": [
       "0.5781212148312452"
      ]
     },
     "execution_count": 56,
     "metadata": {},
     "output_type": "execute_result"
    }
   ],
   "source": [
    "BG = I_gray('../common/office/input/in%06d.jpg' % 569)\n",
    "\n",
    "for i in range(570,2051, 2):\n",
    "    IG = I_gray('../common/office/input/in%06d.jpg' % i)\n",
    "    I_ref = I_gray('../common/office/groundtruth/gt%06d.png' % i)\n",
    "    I_color = I_original('../common/office/input/in%06d.jpg' % i)\n",
    "    cv2.imshow(\"I_result\", BG)\n",
    "    if (i == 570):\n",
    "        BG = alfa * IG + (1 - alfa) * BG\n",
    "    else:\n",
    "        mask = np.logical_and(I_result_gray, IG)\n",
    "        BG[mask] = alfa * IG[mask] + (1 - alfa) * BG[mask]\n",
    "    BG = BG.astype(np.uint8)\n",
    "    I_result = I_diff_and_thresh(BG, IG, 35)\n",
    "    cv2.imshow(\"I_gray\", I_result)\n",
    "\n",
    "    I_result_gray = I__median_and_morfology(I_result)\n",
    "    cv2.imshow(\"I_result\", I_result_gray)\n",
    "\n",
    "    I_result, tmp = I_indexation(I_color, I_result_gray)\n",
    "    if (i == 600):\n",
    "        cv2.waitKey(0)\n",
    "    cv2.waitKey(10)\n",
    "    f = open('../common/office/temporalROI.txt','r') # open file\n",
    "    line = f.readline() # read line\n",
    "    roi_start, roi_end = line.split() # split line\n",
    "    roi_start = int(roi_start) # conversion to int\n",
    "    roi_end = int(roi_end) # conversion to int\n",
    "\n",
    "    if (i >= roi_start and i <= roi_end):\n",
    "        TP_M = np.logical_and((I_result_gray == 255),(I_ref == 255)) # logical product of the matrix elements\n",
    "        TP_S = np.sum(TP_M) # sum of the elements in the matrix\n",
    "        TP = TP + TP_S # update of the global indicator\n",
    "\n",
    "        TN_M = np.logical_and((I_result_gray == 0),(I_ref == 0)) # logical product of the matrix elements\n",
    "        TN_S = np.sum(TN_M) # sum of the elements in the matrix\n",
    "        TN = TN + TN_S # update of the global indicator\n",
    "\n",
    "        FP_M = np.logical_and((I_result_gray == 255),(I_ref == 0)) # logical product of the matrix elements\n",
    "        FP_S = np.sum(FP_M) # sum of the elements in the matrix\n",
    "        FP = FP + FP_S # update of the global indicator\n",
    "\n",
    "        FN_M = np.logical_and((I_result_gray == 0),(I_ref == 255)) # logical product of the matrix elements\n",
    "        FN_S = np.sum(FN_M) # sum of the elements in the matrix\n",
    "        FN = FN + FN_S # update of the global indicator\n",
    "cv2.destroyAllWindows()\n",
    "\n",
    "P = TP / (TP + FP)\n",
    "R = TP / (TP + FN)\n",
    "F1 = 2 * P * R / (P + R)\n",
    "\n",
    "F1"
   ]
  },
  {
   "attachments": {},
   "cell_type": "markdown",
   "metadata": {},
   "source": [
    "### Mediana\n",
    "Pedestrian"
   ]
  },
  {
   "cell_type": "code",
   "execution_count": 14,
   "metadata": {},
   "outputs": [],
   "source": [
    "BG = I_gray('../common/pedestrian/input/in%06d.jpg' % 299)\n",
    "\n",
    "for i in range(300,1100, 3):\n",
    "    IG = I_gray('../common/pedestrian/input/in%06d.jpg' % i)\n",
    "    I_ref = I_gray('../common/pedestrian/groundtruth/gt%06d.png' % i)\n",
    "    I_color = I_original('../common/pedestrian/input/in%06d.jpg' % i)\n",
    "    if (i == 300):\n",
    "        BG = median(BG, IG)\n",
    "    else:\n",
    "        mask = np.logical_and(I_result_gray, IG)\n",
    "        BG[mask] = median(BG[mask], IG[mask])\n",
    "    I_result = I_diff_and_thresh(BG, IG, 35)\n",
    "    cv2.imshow(\"I_gray\", I_result)\n",
    "\n",
    "    I_result_gray = I__median_and_morfology(I_result)\n",
    "    cv2.imshow(\"I_result\", I_result_gray)\n",
    "\n",
    "    I_result, tmp = I_indexation(I_color, I_result_gray)\n",
    "    if (i == 600):\n",
    "        cv2.waitKey(0)\n",
    "    cv2.waitKey(10)\n",
    "    f = open('../common/pedestrian/temporalROI.txt','r') # open file\n",
    "    line = f.readline() # read line\n",
    "    roi_start, roi_end = line.split() # split line\n",
    "    roi_start = int(roi_start) # conversion to int\n",
    "    roi_end = int(roi_end) # conversion to int\n",
    "\n",
    "    if (i >= roi_start and i <= roi_end):\n",
    "        TP_M = np.logical_and((I_result_gray == 255),(I_ref == 255)) # logical product of the matrix elements\n",
    "        TP_S = np.sum(TP_M) # sum of the elements in the matrix\n",
    "        TP = TP + TP_S # update of the global indicator\n",
    "\n",
    "        TN_M = np.logical_and((I_result_gray == 0),(I_ref == 0)) # logical product of the matrix elements\n",
    "        TN_S = np.sum(TN_M) # sum of the elements in the matrix\n",
    "        TN = TN + TN_S # update of the global indicator\n",
    "\n",
    "        FP_M = np.logical_and((I_result_gray == 255),(I_ref == 0)) # logical product of the matrix elements\n",
    "        FP_S = np.sum(FP_M) # sum of the elements in the matrix\n",
    "        FP = FP + FP_S # update of the global indicator\n",
    "\n",
    "        FN_M = np.logical_and((I_result_gray == 0),(I_ref == 255)) # logical product of the matrix elements\n",
    "        FN_S = np.sum(FN_M) # sum of the elements in the matrix\n",
    "        FN = FN + FN_S # update of the global indicator\n",
    "cv2.destroyAllWindows()\n",
    "\n",
    "P = TP / (TP + FP)\n",
    "R = TP / (TP + FN)\n",
    "F1 = 2 * P * R / (P + R)"
   ]
  },
  {
   "cell_type": "code",
   "execution_count": 59,
   "metadata": {},
   "outputs": [
    {
     "data": {
      "text/plain": [
       "0.5830511928964139"
      ]
     },
     "execution_count": 59,
     "metadata": {},
     "output_type": "execute_result"
    }
   ],
   "source": [
    "F1"
   ]
  },
  {
   "attachments": {},
   "cell_type": "markdown",
   "metadata": {},
   "source": [
    "Highway"
   ]
  },
  {
   "cell_type": "code",
   "execution_count": 60,
   "metadata": {},
   "outputs": [
    {
     "data": {
      "text/plain": [
       "0.6224841541608528"
      ]
     },
     "execution_count": 60,
     "metadata": {},
     "output_type": "execute_result"
    }
   ],
   "source": [
    "BG = I_gray('../common/highway/input/in%06d.jpg' % 469)\n",
    "\n",
    "for i in range(470, 1701, 2):\n",
    "    IG = I_gray('../common/highway/input/in%06d.jpg' % i)\n",
    "    I_ref = I_gray('../common/highway/groundtruth/gt%06d.png' % i)\n",
    "    I_color = I_original('../common/highway/input/in%06d.jpg' % i)\n",
    "    if (i == 470):\n",
    "        BG = median(BG, IG)\n",
    "    else:\n",
    "        mask = np.logical_and(I_result_gray, IG)\n",
    "        BG[mask] = median(BG[mask], IG[mask])\n",
    "    I_result = I_diff_and_thresh(BG, IG, 35)\n",
    "    cv2.imshow(\"I_gray\", I_result)\n",
    "\n",
    "    I_result_gray = I__median_and_morfology(I_result)\n",
    "    cv2.imshow(\"I_result\", I_result_gray)\n",
    "\n",
    "    I_result, tmp = I_indexation(I_color, I_result_gray)\n",
    "    if (i == 1200):\n",
    "        cv2.waitKey(0)\n",
    "    cv2.waitKey(10)\n",
    "    f = open('../common/highway/temporalROI.txt','r') # open file\n",
    "    line = f.readline() # read line\n",
    "    roi_start, roi_end = line.split() # split line\n",
    "    roi_start = int(roi_start) # conversion to int\n",
    "    roi_end = int(roi_end) # conversion to int\n",
    "\n",
    "    if (i >= roi_start and i <= roi_end):\n",
    "        TP_M = np.logical_and((I_result_gray == 255),(I_ref == 255)) # logical product of the matrix elements\n",
    "        TP_S = np.sum(TP_M) # sum of the elements in the matrix\n",
    "        TP = TP + TP_S # update of the global indicator\n",
    "\n",
    "        TN_M = np.logical_and((I_result_gray == 0),(I_ref == 0)) # logical product of the matrix elements\n",
    "        TN_S = np.sum(TN_M) # sum of the elements in the matrix\n",
    "        TN = TN + TN_S # update of the global indicator\n",
    "\n",
    "        FP_M = np.logical_and((I_result_gray == 255),(I_ref == 0)) # logical product of the matrix elements\n",
    "        FP_S = np.sum(FP_M) # sum of the elements in the matrix\n",
    "        FP = FP + FP_S # update of the global indicator\n",
    "\n",
    "        FN_M = np.logical_and((I_result_gray == 0),(I_ref == 255)) # logical product of the matrix elements\n",
    "        FN_S = np.sum(FN_M) # sum of the elements in the matrix\n",
    "        FN = FN + FN_S # update of the global indicator\n",
    "cv2.destroyAllWindows()\n",
    "\n",
    "P = TP / (TP + FP)\n",
    "R = TP / (TP + FN)\n",
    "F1 = 2 * P * R / (P + R)\n",
    "F1"
   ]
  },
  {
   "attachments": {},
   "cell_type": "markdown",
   "metadata": {},
   "source": [
    "Office"
   ]
  },
  {
   "cell_type": "code",
   "execution_count": 61,
   "metadata": {},
   "outputs": [
    {
     "data": {
      "text/plain": [
       "0.6798289078184523"
      ]
     },
     "execution_count": 61,
     "metadata": {},
     "output_type": "execute_result"
    }
   ],
   "source": [
    "BG = I_gray('../common/office/input/in%06d.jpg' % 569)\n",
    "\n",
    "for i in range(570, 2051, 2):\n",
    "    IG = I_gray('../common/office/input/in%06d.jpg' % i)\n",
    "    I_ref = I_gray('../common/office/groundtruth/gt%06d.png' % i)\n",
    "    I_color = I_original('../common/office/input/in%06d.jpg' % i)\n",
    "    if (i == 570):\n",
    "        BG = median(BG, IG)\n",
    "    else:\n",
    "        mask = np.logical_and(I_result_gray, IG)\n",
    "        BG[mask] = median(BG[mask], IG[mask])\n",
    "    I_result = I_diff_and_thresh(BG, IG, 35)\n",
    "    cv2.imshow(\"I_gray\", I_result)\n",
    "\n",
    "    I_result_gray = I__median_and_morfology(I_result)\n",
    "    cv2.imshow(\"I_result\", I_result_gray)\n",
    "\n",
    "    I_result, tmp = I_indexation(I_color, I_result_gray)\n",
    "    if (i == 600):\n",
    "        cv2.waitKey(0)\n",
    "    cv2.waitKey(10)\n",
    "    f = open('../common/office/temporalROI.txt','r') # open file\n",
    "    line = f.readline() # read line\n",
    "    roi_start, roi_end = line.split() # split line\n",
    "    roi_start = int(roi_start) # conversion to int\n",
    "    roi_end = int(roi_end) # conversion to int\n",
    "\n",
    "    if (i >= roi_start and i <= roi_end):\n",
    "        TP_M = np.logical_and((I_result_gray == 255),(I_ref == 255)) # logical product of the matrix elements\n",
    "        TP_S = np.sum(TP_M) # sum of the elements in the matrix\n",
    "        TP = TP + TP_S # update of the global indicator\n",
    "\n",
    "        TN_M = np.logical_and((I_result_gray == 0),(I_ref == 0)) # logical product of the matrix elements\n",
    "        TN_S = np.sum(TN_M) # sum of the elements in the matrix\n",
    "        TN = TN + TN_S # update of the global indicator\n",
    "\n",
    "        FP_M = np.logical_and((I_result_gray == 255),(I_ref == 0)) # logical product of the matrix elements\n",
    "        FP_S = np.sum(FP_M) # sum of the elements in the matrix\n",
    "        FP = FP + FP_S # update of the global indicator\n",
    "\n",
    "        FN_M = np.logical_and((I_result_gray == 0),(I_ref == 255)) # logical product of the matrix elements\n",
    "        FN_S = np.sum(FN_M) # sum of the elements in the matrix\n",
    "        FN = FN + FN_S # update of the global indicator\n",
    "cv2.destroyAllWindows()\n",
    "\n",
    "P = TP / (TP + FP)\n",
    "R = TP / (TP + FN)\n",
    "F1 = 2 * P * R / (P + R)\n",
    "F1"
   ]
  },
  {
   "attachments": {},
   "cell_type": "markdown",
   "metadata": {},
   "source": [
    "## OpenCV – GMM/MOG"
   ]
  },
  {
   "attachments": {},
   "cell_type": "markdown",
   "metadata": {},
   "source": [
    "### MOG"
   ]
  },
  {
   "cell_type": "code",
   "execution_count": 53,
   "metadata": {},
   "outputs": [],
   "source": [
    "# initializing subtractor \n",
    "fgbg = cv2.createBackgroundSubtractorMOG2(detectShadows=False, varThreshold=35)\n",
    "  \n",
    "for i in range(300, 1100):\n",
    "    IG = I_gray('../common/pedestrian/input/in%06d.jpg' % i)    \n",
    "    I_ref = I_gray('../common/pedestrian/groundtruth/gt%06d.png' % i)\n",
    "\n",
    "  \n",
    "    # applying on each frame\n",
    "    fgmask = fgbg.apply(IG)  \n",
    "  \n",
    "    cv2.imshow('frame', fgmask)\n",
    "    cv2.waitKey(10)\n",
    "    \n",
    "    f = open('../common/pedestrian/temporalROI.txt','r') # open file\n",
    "    line = f.readline() # read line\n",
    "    roi_start, roi_end = line.split() # split line\n",
    "    roi_start = int(roi_start) # conversion to int\n",
    "    roi_end = int(roi_end) # conversion to int\n",
    "\n",
    "    if (i >= roi_start and i <= roi_end):\n",
    "        TP_M = np.logical_and((fgmask == 255),(I_ref == 255)) # logical product of the matrix elements\n",
    "        TP_S = np.sum(TP_M) # sum of the elements in the matrix\n",
    "        TP = TP + TP_S # update of the global indicator\n",
    "\n",
    "        TN_M = np.logical_and((fgmask == 0),(I_ref == 0)) # logical product of the matrix elements\n",
    "        TN_S = np.sum(TN_M) # sum of the elements in the matrix\n",
    "        TN = TN + TN_S # update of the global indicator\n",
    "\n",
    "        FP_M = np.logical_and((fgmask == 255),(I_ref == 0)) # logical product of the matrix elements\n",
    "        FP_S = np.sum(FP_M) # sum of the elements in the matrix\n",
    "        FP = FP + FP_S # update of the global indicator\n",
    "\n",
    "        FN_M = np.logical_and((fgmask == 0),(I_ref == 255)) # logical product of the matrix elements\n",
    "        FN_S = np.sum(FN_M) # sum of the elements in the matrix\n",
    "        FN = FN + FN_S # update of the global indicator\n",
    "cv2.destroyAllWindows()\n"
   ]
  },
  {
   "cell_type": "code",
   "execution_count": null,
   "metadata": {},
   "outputs": [
    {
     "data": {
      "text/plain": [
       "0.831519174001968"
      ]
     },
     "execution_count": 30,
     "metadata": {},
     "output_type": "execute_result"
    }
   ],
   "source": [
    "P = TP / (TP + FP)\n",
    "R = TP / (TP + FN)\n",
    "F1 = 2 * P * R / (P + R)\n",
    "F1"
   ]
  },
  {
   "attachments": {},
   "cell_type": "markdown",
   "metadata": {},
   "source": [
    "### KNN"
   ]
  },
  {
   "cell_type": "code",
   "execution_count": null,
   "metadata": {},
   "outputs": [
    {
     "data": {
      "text/plain": [
       "0.7415751268310554"
      ]
     },
     "execution_count": 33,
     "metadata": {},
     "output_type": "execute_result"
    }
   ],
   "source": [
    "# initializing subtractor \n",
    "fgbg = cv2.createBackgroundSubtractorKNN(detectShadows=False)\n",
    "  \n",
    "for i in range(300, 1100, 2):\n",
    "    IG = I_gray('../common/pedestrian/input/in%06d.jpg' % i)    \n",
    "    I_ref = I_gray('../common/pedestrian/groundtruth/gt%06d.png' % i)\n",
    "\n",
    "  \n",
    "    # applying on each frame\n",
    "    fgmask = fgbg.apply(IG)  \n",
    "  \n",
    "    cv2.imshow('frame', fgmask)\n",
    "    cv2.waitKey(10)\n",
    "    \n",
    "    f = open('../common/pedestrian/temporalROI.txt','r') # open file\n",
    "    line = f.readline() # read line\n",
    "    roi_start, roi_end = line.split() # split line\n",
    "    roi_start = int(roi_start) # conversion to int\n",
    "    roi_end = int(roi_end) # conversion to int\n",
    "\n",
    "    if (i >= roi_start and i <= roi_end):\n",
    "        TP_M = np.logical_and((fgmask == 255),(I_ref == 255)) # logical product of the matrix elements\n",
    "        TP_S = np.sum(TP_M) # sum of the elements in the matrix\n",
    "        TP = TP + TP_S # update of the global indicator\n",
    "\n",
    "        TN_M = np.logical_and((fgmask == 0),(I_ref == 0)) # logical product of the matrix elements\n",
    "        TN_S = np.sum(TN_M) # sum of the elements in the matrix\n",
    "        TN = TN + TN_S # update of the global indicator\n",
    "\n",
    "        FP_M = np.logical_and((fgmask == 255),(I_ref == 0)) # logical product of the matrix elements\n",
    "        FP_S = np.sum(FP_M) # sum of the elements in the matrix\n",
    "        FP = FP + FP_S # update of the global indicator\n",
    "\n",
    "        FN_M = np.logical_and((fgmask == 0),(I_ref == 255)) # logical product of the matrix elements\n",
    "        FN_S = np.sum(FN_M) # sum of the elements in the matrix\n",
    "        FN = FN + FN_S # update of the global indicator\n",
    "cv2.destroyAllWindows()\n",
    "\n",
    "P = TP / (TP + FP)\n",
    "R = TP / (TP + FN)\n",
    "F1 = 2 * P * R / (P + R)\n",
    "F1"
   ]
  },
  {
   "attachments": {},
   "cell_type": "markdown",
   "metadata": {},
   "source": [
    "## Wykorzystanie sieci neuronowej do segmentacji obiektów pierwszoplanowych"
   ]
  },
  {
   "cell_type": "code",
   "execution_count": null,
   "metadata": {},
   "outputs": [
    {
     "name": "stdout",
     "output_type": "stream",
     "text": [
      "240 360 3\n"
     ]
    }
   ],
   "source": [
    "import cv2\n",
    "import os\n",
    "\n",
    "image_folder = '../common/pedestrian/input/'\n",
    "video_name = 'video.avi'\n",
    "\n",
    "images = [img for img in os.listdir(image_folder) if img.endswith(\".jpg\")]\n",
    "frame = cv2.imread(os.path.join(image_folder, images[0]))\n",
    "height, width, layers = frame.shape\n",
    "print(height, width, layers)\n",
    "\n",
    "video = cv2.VideoWriter(video_name, 0, 50, (width,height))\n",
    "\n",
    "for image in images:\n",
    "    video.write(cv2.imread(os.path.join(image_folder, image)))\n",
    "\n",
    "cv2.destroyAllWindows()\n",
    "video.release()"
   ]
  }
 ],
 "metadata": {
  "kernelspec": {
   "display_name": "zaw",
   "language": "python",
   "name": "python3"
  },
  "language_info": {
   "codemirror_mode": {
    "name": "ipython",
    "version": 3
   },
   "file_extension": ".py",
   "mimetype": "text/x-python",
   "name": "python",
   "nbconvert_exporter": "python",
   "pygments_lexer": "ipython3",
   "version": "3.10.0"
  },
  "orig_nbformat": 4,
  "vscode": {
   "interpreter": {
    "hash": "85e67c86730101b0022c2228ec83a4ecfa939c7450064936afc2b2237055bcec"
   }
  }
 },
 "nbformat": 4,
 "nbformat_minor": 2
}
