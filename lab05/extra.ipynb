{
 "cells": [
  {
   "attachments": {},
   "cell_type": "markdown",
   "metadata": {},
   "source": [
    "# Inne sposoby wyznaczania przepływu optycznego"
   ]
  },
  {
   "cell_type": "code",
   "execution_count": 3,
   "metadata": {},
   "outputs": [],
   "source": [
    "import cv2\n",
    "import numpy as np"
   ]
  },
  {
   "cell_type": "code",
   "execution_count": 4,
   "metadata": {},
   "outputs": [],
   "source": [
    "def I_gray(filename):\n",
    "    I = cv2.imread(filename)\n",
    "    I = cv2.cvtColor(I, cv2.COLOR_BGR2GRAY)\n",
    "    return I"
   ]
  },
  {
   "cell_type": "code",
   "execution_count": 3,
   "metadata": {},
   "outputs": [],
   "source": [
    "def vis_flow(flow):\n",
    "    hsv = np.ones((flow[..., 0].shape[0], flow[..., 0].shape[1], 3), dtype=np.uint8)\n",
    "    mag, ang = cv2.cartToPolar(flow[..., 0], flow[..., 1])\n",
    "    hsv[:, :, 0] = (ang * 90 / np.pi)\n",
    "    hsv[:, :, 1] = cv2.normalize(mag, None, 0, 255, cv2.NORM_MINMAX)\n",
    "    hsv[:, :, 2] = 255\n",
    "    rgb = cv2.cvtColor(hsv, cv2.COLOR_HSV2RGB)\n",
    "    cv2.imshow('rgb', rgb)"
   ]
  },
  {
   "attachments": {},
   "cell_type": "markdown",
   "metadata": {},
   "source": [
    "## Zadanie 1 - wyznaczyc przepływ optyczny metodami gęstymi"
   ]
  },
  {
   "attachments": {},
   "cell_type": "markdown",
   "metadata": {},
   "source": [
    "### Lucas Canade"
   ]
  },
  {
   "cell_type": "code",
   "execution_count": 4,
   "metadata": {},
   "outputs": [
    {
     "ename": "KeyboardInterrupt",
     "evalue": "",
     "output_type": "error",
     "traceback": [
      "\u001b[1;31m---------------------------------------------------------------------------\u001b[0m",
      "\u001b[1;31mKeyboardInterrupt\u001b[0m                         Traceback (most recent call last)",
      "Cell \u001b[1;32mIn[4], line 4\u001b[0m\n\u001b[0;32m      2\u001b[0m \u001b[39mfor\u001b[39;00m i \u001b[39min\u001b[39;00m \u001b[39mrange\u001b[39m(\u001b[39m300\u001b[39m,\u001b[39m1100\u001b[39m, \u001b[39m3\u001b[39m):\n\u001b[0;32m      3\u001b[0m     \u001b[39mnext\u001b[39m \u001b[39m=\u001b[39m I_gray(\u001b[39m'\u001b[39m\u001b[39m../common/pedestrian/input/in\u001b[39m\u001b[39m%06d\u001b[39;00m\u001b[39m.jpg\u001b[39m\u001b[39m'\u001b[39m \u001b[39m%\u001b[39m i)\n\u001b[1;32m----> 4\u001b[0m     flow \u001b[39m=\u001b[39m cv2\u001b[39m.\u001b[39;49moptflow\u001b[39m.\u001b[39;49mcalcOpticalFlowSparseToDense(prvs, \u001b[39mnext\u001b[39;49m, grid_step\u001b[39m=\u001b[39;49m\u001b[39m5\u001b[39;49m, sigma\u001b[39m=\u001b[39;49m\u001b[39m0.5\u001b[39;49m)\n\u001b[0;32m      5\u001b[0m     vis_flow(flow)\n\u001b[0;32m      6\u001b[0m     kk \u001b[39m=\u001b[39m cv2\u001b[39m.\u001b[39mwaitKey(\u001b[39m20\u001b[39m) \u001b[39m&\u001b[39m \u001b[39m0xff\u001b[39m\n",
      "\u001b[1;31mKeyboardInterrupt\u001b[0m: "
     ]
    }
   ],
   "source": [
    "prvs = I_gray('../common/pedestrian/input/in000299.jpg')\n",
    "for i in range(300,1100, 3):\n",
    "    next = I_gray('../common/pedestrian/input/in%06d.jpg' % i)\n",
    "    flow = cv2.optflow.calcOpticalFlowSparseToDense(prvs, next, grid_step=5, sigma=0.5)\n",
    "    vis_flow(flow)\n",
    "    kk = cv2.waitKey(20) & 0xff\n",
    "    if kk == ord('e'):\n",
    "        break\n",
    "cv2.destroyAllWindows()"
   ]
  },
  {
   "attachments": {},
   "cell_type": "markdown",
   "metadata": {},
   "source": [
    "### Farneback"
   ]
  },
  {
   "cell_type": "code",
   "execution_count": 5,
   "metadata": {},
   "outputs": [
    {
     "ename": "KeyboardInterrupt",
     "evalue": "",
     "output_type": "error",
     "traceback": [
      "\u001b[1;31m---------------------------------------------------------------------------\u001b[0m",
      "\u001b[1;31mKeyboardInterrupt\u001b[0m                         Traceback (most recent call last)",
      "Cell \u001b[1;32mIn[5], line 6\u001b[0m\n\u001b[0;32m      4\u001b[0m flow \u001b[39m=\u001b[39m cv2\u001b[39m.\u001b[39mcalcOpticalFlowFarneback(prvs, \u001b[39mnext\u001b[39m, \u001b[39mNone\u001b[39;00m, \u001b[39m0.5\u001b[39m, \u001b[39m3\u001b[39m, \u001b[39m15\u001b[39m, \u001b[39m3\u001b[39m, \u001b[39m5\u001b[39m, \u001b[39m1.2\u001b[39m, \u001b[39m0\u001b[39m)\n\u001b[0;32m      5\u001b[0m vis_flow(flow)\n\u001b[1;32m----> 6\u001b[0m kk \u001b[39m=\u001b[39m cv2\u001b[39m.\u001b[39;49mwaitKey(\u001b[39m20\u001b[39;49m) \u001b[39m&\u001b[39m \u001b[39m0xff\u001b[39m\n\u001b[0;32m      7\u001b[0m \u001b[39mif\u001b[39;00m kk \u001b[39m==\u001b[39m \u001b[39mord\u001b[39m(\u001b[39m'\u001b[39m\u001b[39me\u001b[39m\u001b[39m'\u001b[39m):\n\u001b[0;32m      8\u001b[0m     \u001b[39mbreak\u001b[39;00m\n",
      "\u001b[1;31mKeyboardInterrupt\u001b[0m: "
     ]
    }
   ],
   "source": [
    "prvs = I_gray('../common/pedestrian/input/in000299.jpg')\n",
    "for i in range(300,1100, 3):\n",
    "    next = I_gray('../common/pedestrian/input/in%06d.jpg' % i)\n",
    "    flow = cv2.calcOpticalFlowFarneback(prvs, next, None, 0.5, 3, 15, 3, 5, 1.2, 0)\n",
    "    vis_flow(flow)\n",
    "    kk = cv2.waitKey(20) & 0xff\n",
    "    if kk == ord('e'):\n",
    "        break\n",
    "cv2.destroyAllWindows()"
   ]
  },
  {
   "attachments": {},
   "cell_type": "markdown",
   "metadata": {},
   "source": [
    "### Dual TV-L1"
   ]
  },
  {
   "cell_type": "code",
   "execution_count": 6,
   "metadata": {},
   "outputs": [
    {
     "ename": "KeyboardInterrupt",
     "evalue": "",
     "output_type": "error",
     "traceback": [
      "\u001b[1;31m---------------------------------------------------------------------------\u001b[0m",
      "\u001b[1;31mKeyboardInterrupt\u001b[0m                         Traceback (most recent call last)",
      "Cell \u001b[1;32mIn[6], line 5\u001b[0m\n\u001b[0;32m      3\u001b[0m \u001b[39mnext\u001b[39m \u001b[39m=\u001b[39m I_gray(\u001b[39m'\u001b[39m\u001b[39m../common/pedestrian/input/in\u001b[39m\u001b[39m%06d\u001b[39;00m\u001b[39m.jpg\u001b[39m\u001b[39m'\u001b[39m \u001b[39m%\u001b[39m i)\n\u001b[0;32m      4\u001b[0m optical_flow \u001b[39m=\u001b[39m cv2\u001b[39m.\u001b[39moptflow\u001b[39m.\u001b[39mcreateOptFlow_DualTVL1()\n\u001b[1;32m----> 5\u001b[0m flow \u001b[39m=\u001b[39m optical_flow\u001b[39m.\u001b[39;49mcalc(prvs, \u001b[39mnext\u001b[39;49m, \u001b[39mNone\u001b[39;49;00m)\n\u001b[0;32m      6\u001b[0m vis_flow(flow)\n\u001b[0;32m      7\u001b[0m kk \u001b[39m=\u001b[39m cv2\u001b[39m.\u001b[39mwaitKey(\u001b[39m20\u001b[39m) \u001b[39m&\u001b[39m \u001b[39m0xff\u001b[39m\n",
      "\u001b[1;31mKeyboardInterrupt\u001b[0m: "
     ]
    }
   ],
   "source": [
    "prvs = I_gray('../common/pedestrian/input/in000299.jpg')\n",
    "for i in range(300, 1100, 3):\n",
    "    next = I_gray('../common/pedestrian/input/in%06d.jpg' % i)\n",
    "    optical_flow = cv2.optflow.createOptFlow_DualTVL1()\n",
    "    flow = optical_flow.calc(prvs, next, None)\n",
    "    vis_flow(flow)\n",
    "    kk = cv2.waitKey(20) & 0xff\n",
    "    if kk == ord('e'):\n",
    "        break\n",
    "cv2.destroyAllWindows()"
   ]
  },
  {
   "attachments": {},
   "cell_type": "markdown",
   "metadata": {},
   "source": [
    "DIS Flow"
   ]
  },
  {
   "cell_type": "code",
   "execution_count": 7,
   "metadata": {},
   "outputs": [
    {
     "ename": "KeyboardInterrupt",
     "evalue": "",
     "output_type": "error",
     "traceback": [
      "\u001b[1;31m---------------------------------------------------------------------------\u001b[0m",
      "\u001b[1;31mKeyboardInterrupt\u001b[0m                         Traceback (most recent call last)",
      "Cell \u001b[1;32mIn[7], line 7\u001b[0m\n\u001b[0;32m      5\u001b[0m flow \u001b[39m=\u001b[39m optical_flow\u001b[39m.\u001b[39mcalc(prvs, \u001b[39mnext\u001b[39m, \u001b[39mNone\u001b[39;00m)\n\u001b[0;32m      6\u001b[0m vis_flow(flow)\n\u001b[1;32m----> 7\u001b[0m kk \u001b[39m=\u001b[39m cv2\u001b[39m.\u001b[39;49mwaitKey(\u001b[39m20\u001b[39;49m) \u001b[39m&\u001b[39m \u001b[39m0xff\u001b[39m\n\u001b[0;32m      8\u001b[0m \u001b[39mif\u001b[39;00m kk \u001b[39m==\u001b[39m \u001b[39mord\u001b[39m(\u001b[39m'\u001b[39m\u001b[39me\u001b[39m\u001b[39m'\u001b[39m):\n\u001b[0;32m      9\u001b[0m     \u001b[39mbreak\u001b[39;00m\n",
      "\u001b[1;31mKeyboardInterrupt\u001b[0m: "
     ]
    }
   ],
   "source": [
    "prvs = I_gray('../common/pedestrian/input/in000299.jpg')\n",
    "for i in range(300, 1100, 3):\n",
    "    next = I_gray('../common/pedestrian/input/in%06d.jpg' % i)\n",
    "    optical_flow = cv2.DISOpticalFlow.create()\n",
    "    flow = optical_flow.calc(prvs, next, None)\n",
    "    vis_flow(flow)\n",
    "    kk = cv2.waitKey(20) & 0xff\n",
    "    if kk == ord('e'):\n",
    "        break\n",
    "cv2.destroyAllWindows()"
   ]
  },
  {
   "attachments": {},
   "cell_type": "markdown",
   "metadata": {},
   "source": [
    "DEEP FLOW"
   ]
  },
  {
   "cell_type": "code",
   "execution_count": 8,
   "metadata": {},
   "outputs": [
    {
     "ename": "KeyboardInterrupt",
     "evalue": "",
     "output_type": "error",
     "traceback": [
      "\u001b[1;31m---------------------------------------------------------------------------\u001b[0m",
      "\u001b[1;31mKeyboardInterrupt\u001b[0m                         Traceback (most recent call last)",
      "Cell \u001b[1;32mIn[8], line 5\u001b[0m\n\u001b[0;32m      3\u001b[0m \u001b[39mnext\u001b[39m \u001b[39m=\u001b[39m I_gray(\u001b[39m'\u001b[39m\u001b[39m../common/pedestrian/input/in\u001b[39m\u001b[39m%06d\u001b[39;00m\u001b[39m.jpg\u001b[39m\u001b[39m'\u001b[39m \u001b[39m%\u001b[39m i)\n\u001b[0;32m      4\u001b[0m optical_flow \u001b[39m=\u001b[39m cv2\u001b[39m.\u001b[39moptflow\u001b[39m.\u001b[39mcreateOptFlow_DeepFlow()\n\u001b[1;32m----> 5\u001b[0m flow \u001b[39m=\u001b[39m optical_flow\u001b[39m.\u001b[39;49mcalc(prvs, \u001b[39mnext\u001b[39;49m, \u001b[39mNone\u001b[39;49;00m)\n\u001b[0;32m      6\u001b[0m vis_flow(flow)\n\u001b[0;32m      7\u001b[0m kk \u001b[39m=\u001b[39m cv2\u001b[39m.\u001b[39mwaitKey(\u001b[39m20\u001b[39m) \u001b[39m&\u001b[39m \u001b[39m0xff\u001b[39m\n",
      "\u001b[1;31mKeyboardInterrupt\u001b[0m: "
     ]
    }
   ],
   "source": [
    "prvs = I_gray('../common/pedestrian/input/in000299.jpg')\n",
    "for i in range(300, 1100, 3):\n",
    "    next = I_gray('../common/pedestrian/input/in%06d.jpg' % i)\n",
    "    optical_flow = cv2.optflow.createOptFlow_DeepFlow()\n",
    "    flow = optical_flow.calc(prvs, next, None)\n",
    "    vis_flow(flow)\n",
    "    kk = cv2.waitKey(20) & 0xff\n",
    "    if kk == ord('e'):\n",
    "        break\n",
    "cv2.destroyAllWindows()"
   ]
  },
  {
   "attachments": {},
   "cell_type": "markdown",
   "metadata": {},
   "source": [
    "SIMPLE FLOW"
   ]
  },
  {
   "cell_type": "code",
   "execution_count": null,
   "metadata": {},
   "outputs": [
    {
     "ename": "KeyboardInterrupt",
     "evalue": "",
     "output_type": "error",
     "traceback": [
      "\u001b[1;31m---------------------------------------------------------------------------\u001b[0m",
      "\u001b[1;31mKeyboardInterrupt\u001b[0m                         Traceback (most recent call last)",
      "Cell \u001b[1;32mIn[9], line 5\u001b[0m\n\u001b[0;32m      3\u001b[0m \u001b[39mnext\u001b[39m \u001b[39m=\u001b[39m I_gray(\u001b[39m'\u001b[39m\u001b[39m../common/pedestrian/input/in\u001b[39m\u001b[39m%06d\u001b[39;00m\u001b[39m.jpg\u001b[39m\u001b[39m'\u001b[39m \u001b[39m%\u001b[39m i)\n\u001b[0;32m      4\u001b[0m optical_flow \u001b[39m=\u001b[39m cv2\u001b[39m.\u001b[39moptflow\u001b[39m.\u001b[39mcreateOptFlow_SimpleFlow()\n\u001b[1;32m----> 5\u001b[0m flow \u001b[39m=\u001b[39m optical_flow\u001b[39m.\u001b[39;49mcalc(prvs, \u001b[39mnext\u001b[39;49m, \u001b[39mNone\u001b[39;49;00m)\n\u001b[0;32m      6\u001b[0m vis_flow(flow)\n\u001b[0;32m      7\u001b[0m kk \u001b[39m=\u001b[39m cv2\u001b[39m.\u001b[39mwaitKey(\u001b[39m20\u001b[39m) \u001b[39m&\u001b[39m \u001b[39m0xff\u001b[39m\n",
      "\u001b[1;31mKeyboardInterrupt\u001b[0m: "
     ]
    }
   ],
   "source": [
    "prvs = I_gray('../common/pedestrian/input/in000299.jpg')\n",
    "for i in range(300, 1100, 3):\n",
    "    next = I_gray('../common/pedestrian/input/in%06d.jpg' % i)\n",
    "    optical_flow = cv2.optflow.createOptFlow_SimpleFlow()\n",
    "    flow = optical_flow.calc(prvs, next, None)\n",
    "    vis_flow(flow)\n",
    "    kk = cv2.waitKey(20) & 0xff\n",
    "    if kk == ord('e'):\n",
    "        break\n",
    "cv2.destroyAllWindows()"
   ]
  },
  {
   "attachments": {},
   "cell_type": "markdown",
   "metadata": {},
   "source": [
    "PCA FLOW"
   ]
  },
  {
   "cell_type": "code",
   "execution_count": 9,
   "metadata": {},
   "outputs": [
    {
     "ename": "KeyboardInterrupt",
     "evalue": "",
     "output_type": "error",
     "traceback": [
      "\u001b[1;31m---------------------------------------------------------------------------\u001b[0m",
      "\u001b[1;31mKeyboardInterrupt\u001b[0m                         Traceback (most recent call last)",
      "Cell \u001b[1;32mIn[9], line 7\u001b[0m\n\u001b[0;32m      5\u001b[0m flow \u001b[39m=\u001b[39m optical_flow\u001b[39m.\u001b[39mcalc(prvs, \u001b[39mnext\u001b[39m, \u001b[39mNone\u001b[39;00m)\n\u001b[0;32m      6\u001b[0m vis_flow(flow)\n\u001b[1;32m----> 7\u001b[0m kk \u001b[39m=\u001b[39m cv2\u001b[39m.\u001b[39;49mwaitKey(\u001b[39m20\u001b[39;49m) \u001b[39m&\u001b[39m \u001b[39m0xff\u001b[39m\n\u001b[0;32m      8\u001b[0m \u001b[39mif\u001b[39;00m kk \u001b[39m==\u001b[39m \u001b[39mord\u001b[39m(\u001b[39m'\u001b[39m\u001b[39me\u001b[39m\u001b[39m'\u001b[39m):\n\u001b[0;32m      9\u001b[0m     \u001b[39mbreak\u001b[39;00m\n",
      "\u001b[1;31mKeyboardInterrupt\u001b[0m: "
     ]
    }
   ],
   "source": [
    "prvs = I_gray('../common/pedestrian/input/in000299.jpg')\n",
    "for i in range(300, 1100, 3):\n",
    "    next = I_gray('../common/pedestrian/input/in%06d.jpg' % i)\n",
    "    optical_flow = cv2.optflow.createOptFlow_PCAFlow()\n",
    "    flow = optical_flow.calc(prvs, next, None)\n",
    "    vis_flow(flow)\n",
    "    kk = cv2.waitKey(20) & 0xff\n",
    "    if kk == ord('e'):\n",
    "        break\n",
    "cv2.destroyAllWindows()"
   ]
  },
  {
   "attachments": {},
   "cell_type": "markdown",
   "metadata": {},
   "source": [
    "## Zadanie 2"
   ]
  },
  {
   "cell_type": "code",
   "execution_count": 10,
   "metadata": {},
   "outputs": [],
   "source": [
    "old_gray = I_gray('resources/I.jpg')\n",
    "frame_gray = I_gray('resources/J.jpg')"
   ]
  },
  {
   "attachments": {},
   "cell_type": "markdown",
   "metadata": {},
   "source": [
    "Dla highway:"
   ]
  },
  {
   "cell_type": "code",
   "execution_count": 11,
   "metadata": {},
   "outputs": [],
   "source": [
    "lk_params = dict( winSize  = (15, 15),\n",
    "                  maxLevel = 2,\n",
    "                  criteria = (cv2.TERM_CRITERIA_EPS | cv2.TERM_CRITERIA_COUNT, 10, 0.03))\n",
    "p0 = []\n",
    "for row in range(10, old_gray.shape[0], 10):\n",
    "    for col in range(10, old_gray.shape[1], 10):\n",
    "        p0.append([[col, row]])\n",
    "p0 = np.array(p0, dtype=np.float32)\n",
    "# Create a mask image for drawing purposes\n",
    "mask = np.zeros_like(old_gray)\n",
    "# calculate optical flow\n",
    "p1, st, err = cv2.calcOpticalFlowPyrLK(old_gray, frame_gray, p0, None, **lk_params)\n",
    "\n",
    "if p1 is not None:\n",
    "    new_points = p1[st==1]\n",
    "    points = p0[st==1]\n",
    "\n",
    "draw1 = p0[st == 1] #points to draw\n",
    "draw2 = p1[st == 1]\n",
    "\n",
    "frame = cv2.cvtColor(frame_gray, cv2.COLOR_GRAY2BGR)\n",
    "\n",
    "x1 = np.ravel(points[:,0])\n",
    "y1 = np.ravel(points[:, 1])\n",
    "\n",
    "x2 = np.ravel(new_points[:,0])\n",
    "y2 = np.ravel(new_points[:,1])\n",
    "for i in range(1, len(draw1)):\n",
    "    cv2.line(frame, (int(x1[i]), int(y1[i])), (int(x2[i]), int(y2[i])), [0, 0, 255])\n",
    "\n",
    "p1 = p1[st == 1]\n",
    "p0 = p1.reshape(-1, 1, 2)\n",
    "cv2.imshow(\"Result\", frame)\n",
    "cv2.waitKey(0)\n",
    "cv2.destroyAllWindows"
   ]
  },
  {
   "attachments": {},
   "cell_type": "markdown",
   "metadata": {},
   "source": [
    "Dla pedestrian"
   ]
  },
  {
   "cell_type": "code",
   "execution_count": 5,
   "metadata": {},
   "outputs": [],
   "source": [
    "old_gray = I_gray('../common/pedestrian/input/in000470.jpg')\n",
    "frame_gray = I_gray('../common/pedestrian/input/in000471.jpg')"
   ]
  },
  {
   "cell_type": "code",
   "execution_count": 6,
   "metadata": {},
   "outputs": [
    {
     "data": {
      "text/plain": [
       "<function destroyAllWindows>"
      ]
     },
     "execution_count": 6,
     "metadata": {},
     "output_type": "execute_result"
    }
   ],
   "source": [
    "lk_params = dict( winSize  = (15, 15),\n",
    "                  maxLevel = 2,\n",
    "                  criteria = (cv2.TERM_CRITERIA_EPS | cv2.TERM_CRITERIA_COUNT, 10, 0.03))\n",
    "p0 = []\n",
    "for row in range(10, old_gray.shape[0], 10):\n",
    "    for col in range(10, old_gray.shape[1], 10):\n",
    "        p0.append([[col, row]])\n",
    "p0 = np.array(p0, dtype=np.float32)\n",
    "# Create a mask image for drawing purposes\n",
    "mask = np.zeros_like(old_gray)\n",
    "# calculate optical flow\n",
    "p1, st, err = cv2.calcOpticalFlowPyrLK(old_gray, frame_gray, p0, None, **lk_params)\n",
    "\n",
    "if p1 is not None:\n",
    "    new_points = p1[st==1]\n",
    "    points = p0[st==1]\n",
    "\n",
    "draw1 = p0[st == 1] #points to draw\n",
    "draw2 = p1[st == 1]\n",
    "\n",
    "frame = cv2.cvtColor(frame_gray, cv2.COLOR_GRAY2BGR)\n",
    "\n",
    "x1 = np.ravel(points[:,0])\n",
    "y1 = np.ravel(points[:, 1])\n",
    "\n",
    "x2 = np.ravel(new_points[:,0])\n",
    "y2 = np.ravel(new_points[:,1])\n",
    "for i in range(1, len(draw1)):\n",
    "    cv2.line(frame, (int(x1[i]), int(y1[i])), (int(x2[i]), int(y2[i])), [0, 0, 255])\n",
    "\n",
    "p1 = p1[st == 1]\n",
    "p0 = p1.reshape(-1, 1, 2)\n",
    "cv2.imshow(\"Result\", frame)\n",
    "cv2.waitKey(0)\n",
    "cv2.destroyAllWindows"
   ]
  }
 ],
 "metadata": {
  "kernelspec": {
   "display_name": "zaw",
   "language": "python",
   "name": "python3"
  },
  "language_info": {
   "codemirror_mode": {
    "name": "ipython",
    "version": 3
   },
   "file_extension": ".py",
   "mimetype": "text/x-python",
   "name": "python",
   "nbconvert_exporter": "python",
   "pygments_lexer": "ipython3",
   "version": "3.10.0"
  },
  "orig_nbformat": 4,
  "vscode": {
   "interpreter": {
    "hash": "85e67c86730101b0022c2228ec83a4ecfa939c7450064936afc2b2237055bcec"
   }
  }
 },
 "nbformat": 4,
 "nbformat_minor": 2
}
