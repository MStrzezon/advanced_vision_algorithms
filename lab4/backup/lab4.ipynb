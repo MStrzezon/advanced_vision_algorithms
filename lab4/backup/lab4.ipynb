{
 "cells": [
  {
   "attachments": {},
   "cell_type": "markdown",
   "metadata": {},
   "source": [
    "# Termowizja"
   ]
  },
  {
   "attachments": {},
   "cell_type": "markdown",
   "metadata": {},
   "source": [
    "## Prosta analiza obrazu termowizyjnego"
   ]
  },
  {
   "cell_type": "code",
   "execution_count": 1,
   "metadata": {},
   "outputs": [],
   "source": [
    "import cv2\n",
    "import numpy as np\n",
    "import matplotlib.pyplot as plt"
   ]
  },
  {
   "cell_type": "code",
   "execution_count": 2,
   "metadata": {},
   "outputs": [],
   "source": [
    "def I__median_and_morfology(I):\n",
    "    I_median = cv2.medianBlur(I, 3)\n",
    "\n",
    "    kernel = np.ones((3,3),np.uint8)\n",
    "    I_result = cv2.erode(I_median,kernel)\n",
    "    I_result = cv2.dilate(I_median,kernel)\n",
    "\n",
    "    return I_result"
   ]
  },
  {
   "cell_type": "code",
   "execution_count": 3,
   "metadata": {},
   "outputs": [],
   "source": [
    "def is_below(main_stat, sub_stat):\n",
    "    return 0 < sub_stat[1] - main_stat[1] - main_stat[3] < 100"
   ]
  },
  {
   "cell_type": "code",
   "execution_count": 4,
   "metadata": {},
   "outputs": [],
   "source": [
    "def is_between_edges(main_stat, sub_stat):\n",
    "    return sub_stat[0] + sub_stat[2] > main_stat[0] and sub_stat[0] < main_stat[0] + main_stat[2]"
   ]
  },
  {
   "cell_type": "code",
   "execution_count": 5,
   "metadata": {},
   "outputs": [],
   "source": [
    "def update_right_bottom(right_bottom, sub_stat):\n",
    "    return ((sub_stat[0] + sub_stat[2]) if (right_bottom[0] < sub_stat[0] + sub_stat[2]) else right_bottom[0]), ((sub_stat[1] + sub_stat[3]) if (right_bottom[1] < sub_stat[1] + sub_stat[3]) else right_bottom[1])\n",
    "\n",
    "def update_left_top(left_top, sub_stat):\n",
    "    return sub_stat[0] if left_top[0] > sub_stat[0] else left_top[0], left_top[1]\n",
    "\n",
    "def update_rectangle_tops(left_top, right_bottom, sub_stat):\n",
    "    return update_left_top(left_top, sub_stat), update_right_bottom(right_bottom, sub_stat)\n"
   ]
  },
  {
   "cell_type": "code",
   "execution_count": 8,
   "metadata": {},
   "outputs": [],
   "source": [
    "# patrzymy czy pod dołem wykrytego człowieka nie ma innego wykrytego obiektu\n",
    "# jeśli jest to klasyfikujemy go jako część wykrytego człowieka i uktaulniamy współrzędne prostokąta\n",
    "\n",
    "def I_indexation(I_input, I):\n",
    "    retval, labels, stats, centroids = cv2.connectedComponentsWithStats(I)\n",
    "\n",
    "    I_VIS = I_input # copy of the input image\n",
    "    if (stats.shape[0] > 1): # are there any objects\n",
    "        for (i, stat) in enumerate(stats):\n",
    "\n",
    "            if i == 0 :\n",
    "                continue\n",
    "            if stat[3] / stat[2] > 2:\n",
    "                left_top, right_bottom = (stat[0], stat[1]), (stat[0] + stat[2], stat[1] + stat[3])\n",
    "                for (j, st) in enumerate(stats):\n",
    "                    if (j == 0):\n",
    "                        continue\n",
    "                    if (is_below(stat, st) and is_between_edges(stat, st)):\n",
    "                        left_top, right_bottom = update_rectangle_tops(left_top, right_bottom, st)\n",
    "                cv2.rectangle(I_VIS,left_top, right_bottom,(255,0,0),2)\n",
    "    return I_VIS, np.uint8(labels / retval * 255)"
   ]
  },
  {
   "cell_type": "code",
   "execution_count": 9,
   "metadata": {},
   "outputs": [],
   "source": [
    "\n",
    "cap = cv2.VideoCapture('vid1_IR.avi')\n",
    "while(cap.isOpened()):\n",
    "    ret, frame = cap.read()\n",
    "    if not ret:\n",
    "        break\n",
    "    G = cv2.cvtColor(frame, cv2.COLOR_BGR2GRAY)\n",
    "    (T, I) = cv2.threshold(G, 35,255,cv2.THRESH_BINARY)\n",
    "    I = I__median_and_morfology(I)\n",
    "    I, tmp = I_indexation(I, I)\n",
    "    cv2.imshow('IR',I)\n",
    "    if cv2.waitKey(1) & 0xFF == ord('q'): # break the loop when the ’q32 Termowizja’ key is pressed\n",
    "        break\n",
    "cap.release()\n",
    "cv2.destroyAllWindows()"
   ]
  }
 ],
 "metadata": {
  "kernelspec": {
   "display_name": "zaw",
   "language": "python",
   "name": "python3"
  },
  "language_info": {
   "codemirror_mode": {
    "name": "ipython",
    "version": 3
   },
   "file_extension": ".py",
   "mimetype": "text/x-python",
   "name": "python",
   "nbconvert_exporter": "python",
   "pygments_lexer": "ipython3",
   "version": "3.10.0"
  },
  "orig_nbformat": 4
 },
 "nbformat": 4,
 "nbformat_minor": 2
}
