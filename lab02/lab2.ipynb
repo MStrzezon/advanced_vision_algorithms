{
 "cells": [
  {
   "attachments": {},
   "cell_type": "markdown",
   "metadata": {},
   "source": [
    "# 2.1 Wczytywanie sekwencji obrazów"
   ]
  },
  {
   "attachments": {},
   "cell_type": "markdown",
   "metadata": {},
   "source": [
    "Zadanie 2.1"
   ]
  },
  {
   "cell_type": "code",
   "execution_count": 1,
   "metadata": {},
   "outputs": [],
   "source": [
    "import cv2\n",
    "import numpy as np"
   ]
  },
  {
   "cell_type": "code",
   "execution_count": 2,
   "metadata": {},
   "outputs": [],
   "source": [
    "\n",
    "for i in range(300,1100, 3):\n",
    "    I = cv2.imread('pedestrian/input/in%06d.jpg' % i)\n",
    "    cv2.imshow(\"I\",I)\n",
    "    cv2.waitKey(10)\n",
    "cv2.destroyAllWindows()"
   ]
  },
  {
   "attachments": {},
   "cell_type": "markdown",
   "metadata": {},
   "source": [
    "# 2.2 Odejmowanie ramek i binaryzacja"
   ]
  },
  {
   "cell_type": "code",
   "execution_count": 3,
   "metadata": {},
   "outputs": [],
   "source": [
    "def I_gray(filename):\n",
    "    I = cv2.imread(filename)\n",
    "    I = cv2.cvtColor(I, cv2.COLOR_BGR2GRAY)\n",
    "    return I"
   ]
  },
  {
   "cell_type": "code",
   "execution_count": 4,
   "metadata": {},
   "outputs": [],
   "source": [
    "def I_original(filename):\n",
    "    I = cv2.imread(filename)\n",
    "    return I"
   ]
  },
  {
   "cell_type": "code",
   "execution_count": 5,
   "metadata": {},
   "outputs": [],
   "source": [
    "def I_diff_and_thresh(I_prev, I):\n",
    "    I_abs_diff = cv2.absdiff(I_prev, I)\n",
    "    (T, I_thresh) = cv2.threshold(I_abs_diff,20,255,cv2.THRESH_BINARY)\n",
    "    return I_thresh"
   ]
  },
  {
   "cell_type": "code",
   "execution_count": 6,
   "metadata": {},
   "outputs": [],
   "source": [
    "I_previous = I_gray('pedestrian/input/in%06d.jpg' % 299)\n",
    "for i in range(300,1100):\n",
    "    I = I_gray('pedestrian/input/in%06d.jpg' % i)\n",
    "    I_result = I_diff_and_thresh(I_previous, I)\n",
    "\n",
    "    cv2.imshow(\"I_result\", I_result)\n",
    "    cv2.waitKey(10)\n",
    "    I_previous = I\n",
    "cv2.destroyAllWindows()"
   ]
  },
  {
   "attachments": {},
   "cell_type": "markdown",
   "metadata": {},
   "source": [
    "# 2.3 Operacje morfologiczne"
   ]
  },
  {
   "cell_type": "code",
   "execution_count": 7,
   "metadata": {},
   "outputs": [],
   "source": [
    "def I__median_and_morfology(I):\n",
    "    I_median = cv2.medianBlur(I, 3)\n",
    "    I_median = cv2.medianBlur(I_median, 3)\n",
    "\n",
    "    kernel = np.ones((5,5),np.uint8)\n",
    "    # I_result = cv2.erode(I_median,kernel)\n",
    "    I_result = cv2.dilate(I_median,kernel)\n",
    "    I_result = cv2.dilate(I_median,kernel)\n",
    "\n",
    "\n",
    "    return I_result"
   ]
  },
  {
   "cell_type": "code",
   "execution_count": 8,
   "metadata": {},
   "outputs": [],
   "source": [
    "I_previous = I_gray('pedestrian/input/in%06d.jpg' % 299)\n",
    "for i in range(300,1100):\n",
    "    I = I_gray('pedestrian/input/in%06d.jpg' % i)\n",
    "    I_result = I_diff_and_thresh(I_previous, I)\n",
    "    I_result = I__median_and_morfology(I_result)\n",
    "    cv2.imshow(\"I_result\", I_result)\n",
    "    cv2.waitKey(10)\n",
    "    I_previous = I\n",
    "cv2.destroyAllWindows()"
   ]
  },
  {
   "attachments": {},
   "cell_type": "markdown",
   "metadata": {},
   "source": [
    "# 2.4 Indeksacja i prosta analiza"
   ]
  },
  {
   "cell_type": "code",
   "execution_count": 8,
   "metadata": {},
   "outputs": [],
   "source": [
    "def I_indexation(I_input, I):\n",
    "    retval, labels, stats, centroids = cv2.connectedComponentsWithStats(I)\n",
    "\n",
    "    I_VIS = I_input # copy of the input image\n",
    "    if (stats.shape[0] > 1): # are there any objects\n",
    "        tab = stats[1:,4] # 4 columns without first element\n",
    "        pi = np.argmax( tab )# finding the index of the largest item\n",
    "        pi = pi + 1 # increment because we want the index in stats, not in tab\n",
    "        # drawing a bbox\n",
    "        cv2.rectangle(I_VIS,(stats[pi,0],stats[pi,1]),(stats[pi,0]+stats[pi,2],\n",
    "        stats[pi,1]+stats[pi,3]),(255,0,0),2)\n",
    "        cv2.putText(I_VIS,\"%f\" % stats[pi,4],(stats[pi,0],stats[pi,1]),cv2.FONT_HERSHEY_SIMPLEX,0.5,(255,0,0))\n",
    "        cv2.putText(I_VIS,\"%d\" %pi,(int(centroids[pi,0]),int(centroids[pi,1])),cv2.FONT_HERSHEY_SIMPLEX,1,(255,0,0))\n",
    "    return I_VIS, np.uint8(labels / retval * 255)"
   ]
  },
  {
   "cell_type": "code",
   "execution_count": 10,
   "metadata": {},
   "outputs": [],
   "source": [
    "I_previous = I_gray('pedestrian/input/in%06d.jpg' % 299)\n",
    "for i in range(300,1100):\n",
    "    I = I_gray('pedestrian/input/in%06d.jpg' % i)\n",
    "    I_color = I_original('pedestrian/input/in%06d.jpg' % i)\n",
    "    I_result = I_diff_and_thresh(I_previous, I)\n",
    "    I_result = I__median_and_morfology(I_result)\n",
    "    I_result, tmp = I_indexation(I_color, I_result)\n",
    "    cv2.imshow(\"I_result\", I_result)\n",
    "    cv2.waitKey(10)\n",
    "    I_previous = I\n",
    "cv2.destroyAllWindows()"
   ]
  },
  {
   "attachments": {},
   "cell_type": "markdown",
   "metadata": {},
   "source": [
    "# 2.5 Ewaluacja wyników detekcji obiektów pierwszoplanowych"
   ]
  },
  {
   "cell_type": "code",
   "execution_count": 10,
   "metadata": {},
   "outputs": [],
   "source": [
    "TP, TN, FP, FN = 0, 0, 0, 0\n",
    "\n",
    "I_previous = I_gray('pedestrian/input/in%06d.jpg' % 299)\n",
    "for i in range(300,1100):\n",
    "    I = I_gray('pedestrian/input/in%06d.jpg' % i)\n",
    "    I_ref = I_gray('pedestrian/groundtruth/gt%06d.png' % i)\n",
    "    I_color = I_original('pedestrian/input/in%06d.jpg' % i)\n",
    "    I_result = I_diff_and_thresh(I_previous, I)\n",
    "    cv2.imshow(\"I_diff\", I_result)\n",
    "\n",
    "    I_result = I__median_and_morfology(I_result)\n",
    "    cv2.imshow(\"I_morfology\", I_result)\n",
    "\n",
    "    I_label, tmp = I_indexation(I_color, I_result)\n",
    "    cv2.imshow(\"I_result\", I_label)\n",
    "    cv2.waitKey(10)\n",
    "\n",
    "    f = open('pedestrian/temporalROI.txt','r') # open file\n",
    "    line = f.readline() # read line\n",
    "    roi_start, roi_end = line.split() # split line\n",
    "    roi_start = int(roi_start) # conversion to int\n",
    "    roi_end = int(roi_end) # conversion to int\n",
    "\n",
    "    if (i >= roi_start and i <= roi_end):\n",
    "        TP_M = np.logical_and((I_result == 255),(I_ref == 255)) # logical product of the matrix elements\n",
    "        TP_S = np.sum(TP_M) # sum of the elements in the matrix\n",
    "        TP = TP + TP_S # update of the global indicator\n",
    "\n",
    "        TN_M = np.logical_and((I_result == 0),(I_ref == 0)) # logical product of the matrix elements\n",
    "        TN_S = np.sum(TN_M) # sum of the elements in the matrix\n",
    "        TN = TN + TN_S # update of the global indicator\n",
    "\n",
    "        FP_M = np.logical_and((I_result == 255),(I_ref == 0)) # logical product of the matrix elements\n",
    "        FP_S = np.sum(FP_M) # sum of the elements in the matrix\n",
    "        FP = FP + FP_S # update of the global indicator\n",
    "\n",
    "        FN_M = np.logical_and((I_result == 0),(I_ref == 255)) # logical product of the matrix elements\n",
    "        FN_S = np.sum(FN_M) # sum of the elements in the matrix\n",
    "        FN = FN + FN_S # update of the global indicator\n",
    "    I_previous = I\n",
    "\n",
    "cv2.destroyAllWindows()\n",
    "\n",
    "\n",
    "P = TP / (TP + FP)\n",
    "R = TP / (TP + FN)\n",
    "F1 = 2 * P * R / (P + R)"
   ]
  },
  {
   "cell_type": "code",
   "execution_count": 458,
   "metadata": {},
   "outputs": [
    {
     "data": {
      "text/plain": [
       "0.6538007766213381"
      ]
     },
     "execution_count": 458,
     "metadata": {},
     "output_type": "execute_result"
    }
   ],
   "source": [
    "F1"
   ]
  },
  {
   "attachments": {},
   "cell_type": "markdown",
   "metadata": {},
   "source": [
    "## Highway"
   ]
  },
  {
   "cell_type": "code",
   "execution_count": 7,
   "metadata": {},
   "outputs": [
    {
     "ename": "KeyboardInterrupt",
     "evalue": "",
     "output_type": "error",
     "traceback": [
      "\u001b[1;31m---------------------------------------------------------------------------\u001b[0m",
      "\u001b[1;31mKeyboardInterrupt\u001b[0m                         Traceback (most recent call last)",
      "Cell \u001b[1;32mIn[7], line 15\u001b[0m\n\u001b[0;32m     12\u001b[0m cv2\u001b[39m.\u001b[39mimshow(\u001b[39m\"\u001b[39m\u001b[39mI_result\u001b[39m\u001b[39m\"\u001b[39m, frame)\n\u001b[0;32m     13\u001b[0m cv2\u001b[39m.\u001b[39mwaitKey(\u001b[39m10\u001b[39m)\n\u001b[1;32m---> 15\u001b[0m f \u001b[39m=\u001b[39m \u001b[39mopen\u001b[39;49m(\u001b[39m'\u001b[39;49m\u001b[39mhighway/temporalROI.txt\u001b[39;49m\u001b[39m'\u001b[39;49m,\u001b[39m'\u001b[39;49m\u001b[39mr\u001b[39;49m\u001b[39m'\u001b[39;49m) \u001b[39m# open file\u001b[39;00m\n\u001b[0;32m     16\u001b[0m line \u001b[39m=\u001b[39m f\u001b[39m.\u001b[39mreadline() \u001b[39m# read line\u001b[39;00m\n\u001b[0;32m     17\u001b[0m roi_start, roi_end \u001b[39m=\u001b[39m line\u001b[39m.\u001b[39msplit() \u001b[39m# split line\u001b[39;00m\n",
      "File \u001b[1;32mc:\\Programs\\miniconda3\\envs\\zaw\\lib\\site-packages\\IPython\\core\\interactiveshell.py:282\u001b[0m, in \u001b[0;36m_modified_open\u001b[1;34m(file, *args, **kwargs)\u001b[0m\n\u001b[0;32m    275\u001b[0m \u001b[39mif\u001b[39;00m file \u001b[39min\u001b[39;00m {\u001b[39m0\u001b[39m, \u001b[39m1\u001b[39m, \u001b[39m2\u001b[39m}:\n\u001b[0;32m    276\u001b[0m     \u001b[39mraise\u001b[39;00m \u001b[39mValueError\u001b[39;00m(\n\u001b[0;32m    277\u001b[0m         \u001b[39mf\u001b[39m\u001b[39m\"\u001b[39m\u001b[39mIPython won\u001b[39m\u001b[39m'\u001b[39m\u001b[39mt let you open fd=\u001b[39m\u001b[39m{\u001b[39;00mfile\u001b[39m}\u001b[39;00m\u001b[39m by default \u001b[39m\u001b[39m\"\u001b[39m\n\u001b[0;32m    278\u001b[0m         \u001b[39m\"\u001b[39m\u001b[39mas it is likely to crash IPython. If you know what you are doing, \u001b[39m\u001b[39m\"\u001b[39m\n\u001b[0;32m    279\u001b[0m         \u001b[39m\"\u001b[39m\u001b[39myou can use builtins\u001b[39m\u001b[39m'\u001b[39m\u001b[39m open.\u001b[39m\u001b[39m\"\u001b[39m\n\u001b[0;32m    280\u001b[0m     )\n\u001b[1;32m--> 282\u001b[0m \u001b[39mreturn\u001b[39;00m io_open(file, \u001b[39m*\u001b[39margs, \u001b[39m*\u001b[39m\u001b[39m*\u001b[39mkwargs)\n",
      "File \u001b[1;32mc:\\Programs\\miniconda3\\envs\\zaw\\lib\\_bootlocale.py:11\u001b[0m, in \u001b[0;36mgetpreferredencoding\u001b[1;34m(do_setlocale)\u001b[0m\n\u001b[0;32m      8\u001b[0m \u001b[39mimport\u001b[39;00m \u001b[39m_locale\u001b[39;00m\n\u001b[0;32m     10\u001b[0m \u001b[39mif\u001b[39;00m sys\u001b[39m.\u001b[39mplatform\u001b[39m.\u001b[39mstartswith(\u001b[39m\"\u001b[39m\u001b[39mwin\u001b[39m\u001b[39m\"\u001b[39m):\n\u001b[1;32m---> 11\u001b[0m     \u001b[39mdef\u001b[39;00m \u001b[39mgetpreferredencoding\u001b[39m(do_setlocale\u001b[39m=\u001b[39m\u001b[39mTrue\u001b[39;00m):\n\u001b[0;32m     12\u001b[0m         \u001b[39mif\u001b[39;00m sys\u001b[39m.\u001b[39mflags\u001b[39m.\u001b[39mutf8_mode:\n\u001b[0;32m     13\u001b[0m             \u001b[39mreturn\u001b[39;00m \u001b[39m'\u001b[39m\u001b[39mUTF-8\u001b[39m\u001b[39m'\u001b[39m\n",
      "\u001b[1;31mKeyboardInterrupt\u001b[0m: "
     ]
    }
   ],
   "source": [
    "TP, TN, FP, FN = 0, 0, 0, 0\n",
    "\n",
    "I_previous = I_gray('highway/input/in%06d.jpg' % 299)\n",
    "for i in range(470,1701):\n",
    "    I = I_gray('highway/input/in%06d.jpg' % i)\n",
    "    I_ref = I_gray('highway/groundtruth/gt%06d.png' % i)\n",
    "    I_color = I_original('highway/input/in%06d.jpg' % i)\n",
    "    I_result = I_diff_and_thresh(I_previous, I)\n",
    "    I_result = I__median_and_morfology(I_result)\n",
    "    frame, indexed = I_indexation(I_color, I_result)\n",
    "\n",
    "    cv2.imshow(\"I_result\", frame)\n",
    "    cv2.waitKey(10)\n",
    "\n",
    "    f = open('highway/temporalROI.txt','r') # open file\n",
    "    line = f.readline() # read line\n",
    "    roi_start, roi_end = line.split() # split line\n",
    "    roi_start = int(roi_start) # conversion to int\n",
    "    roi_end = int(roi_end) # conversion to int\n",
    "\n",
    "    if (i >= roi_start and i <= roi_end):\n",
    "        TP_M = np.logical_and((I_result == 255),(I_ref == 255)) # logical product of the matrix elements\n",
    "        TP_S = np.sum(TP_M) # sum of the elements in the matrix\n",
    "        TP = TP + TP_S # update of the global indicator\n",
    "\n",
    "        TN_M = np.logical_and((I_result == 0),(I_ref == 0)) # logical product of the matrix elements\n",
    "        TN_S = np.sum(TN_M) # sum of the elements in the matrix\n",
    "        TN = TN + TN_S # update of the global indicator\n",
    "\n",
    "        FP_M = np.logical_and((I_result == 255),(I_ref == 0)) # logical product of the matrix elements\n",
    "        FP_S = np.sum(FP_M) # sum of the elements in the matrix\n",
    "        FP = FP + FP_S # update of the global indicator\n",
    "\n",
    "        FN_M = np.logical_and((I_result == 0),(I_ref == 255)) # logical product of the matrix elements\n",
    "        FN_S = np.sum(FN_M) # sum of the elements in the matrix\n",
    "        FN = FN + FN_S # update of the global indicator\n",
    "    I_previous = I\n",
    "\n",
    "cv2.destroyAllWindows()\n",
    "\n",
    "\n",
    "P = TP / (TP + FP)\n",
    "R = TP / (TP + FN)\n",
    "F1 = 2 * P * R / (P + R)"
   ]
  },
  {
   "cell_type": "code",
   "execution_count": 432,
   "metadata": {},
   "outputs": [
    {
     "data": {
      "text/plain": [
       "0.785038049602141"
      ]
     },
     "execution_count": 432,
     "metadata": {},
     "output_type": "execute_result"
    }
   ],
   "source": [
    "F1"
   ]
  },
  {
   "attachments": {},
   "cell_type": "markdown",
   "metadata": {},
   "source": [
    "## OFFICE"
   ]
  },
  {
   "cell_type": "code",
   "execution_count": 435,
   "metadata": {},
   "outputs": [],
   "source": [
    "TP, TN, FP, FN = 0, 0, 0, 0\n",
    "\n",
    "I_previous = I_gray('office/input/in%06d.jpg' % 299)\n",
    "for i in range(570,2051):\n",
    "    I = I_gray('office/input/in%06d.jpg' % i)\n",
    "    I_ref = I_gray('office/groundtruth/gt%06d.png' % i)\n",
    "    I_color = I_original('office/input/in%06d.jpg' % i)\n",
    "    I_result = I_diff_and_thresh(I_previous, I)\n",
    "    I_result = I__median_and_morfology(I_result)\n",
    "    frame, indexed = I_indexation(I_color, I_result)\n",
    "\n",
    "    cv2.imshow(\"I_result\", frame)\n",
    "    cv2.waitKey(10)\n",
    "\n",
    "    f = open('office/temporalROI.txt','r') # open file\n",
    "    line = f.readline() # read line\n",
    "    roi_start, roi_end = line.split() # split line\n",
    "    roi_start = int(roi_start) # conversion to int\n",
    "    roi_end = int(roi_end) # conversion to int\n",
    "\n",
    "    if (i >= roi_start and i <= roi_end):\n",
    "        TP_M = np.logical_and((I_result == 255),(I_ref == 255)) # logical product of the matrix elements\n",
    "        TP_S = np.sum(TP_M) # sum of the elements in the matrix\n",
    "        TP = TP + TP_S # update of the global indicator\n",
    "\n",
    "        TN_M = np.logical_and((I_result == 0),(I_ref == 0)) # logical product of the matrix elements\n",
    "        TN_S = np.sum(TN_M) # sum of the elements in the matrix\n",
    "        TN = TN + TN_S # update of the global indicator\n",
    "\n",
    "        FP_M = np.logical_and((I_result == 255),(I_ref == 0)) # logical product of the matrix elements\n",
    "        FP_S = np.sum(FP_M) # sum of the elements in the matrix\n",
    "        FP = FP + FP_S # update of the global indicator\n",
    "\n",
    "        FN_M = np.logical_and((I_result == 0),(I_ref == 255)) # logical product of the matrix elements\n",
    "        FN_S = np.sum(FN_M) # sum of the elements in the matrix\n",
    "        FN = FN + FN_S # update of the global indicator\n",
    "    I_previous = I\n",
    "\n",
    "cv2.destroyAllWindows()\n",
    "\n",
    "\n",
    "P = TP / (TP + FP)\n",
    "R = TP / (TP + FN)\n",
    "F1 = 2 * P * R / (P + R)"
   ]
  },
  {
   "cell_type": "code",
   "execution_count": 434,
   "metadata": {},
   "outputs": [
    {
     "data": {
      "text/plain": [
       "0.24917476552577006"
      ]
     },
     "execution_count": 434,
     "metadata": {},
     "output_type": "execute_result"
    }
   ],
   "source": [
    "F1"
   ]
  }
 ],
 "metadata": {
  "kernelspec": {
   "display_name": "zaw",
   "language": "python",
   "name": "python3"
  },
  "language_info": {
   "codemirror_mode": {
    "name": "ipython",
    "version": 3
   },
   "file_extension": ".py",
   "mimetype": "text/x-python",
   "name": "python",
   "nbconvert_exporter": "python",
   "pygments_lexer": "ipython3",
   "version": "3.10.0"
  },
  "orig_nbformat": 4
 },
 "nbformat": 4,
 "nbformat_minor": 2
}
